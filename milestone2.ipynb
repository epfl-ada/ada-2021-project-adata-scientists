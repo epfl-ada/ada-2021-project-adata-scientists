{
  "nbformat": 4,
  "nbformat_minor": 0,
  "metadata": {
    "colab": {
      "name": "milestone2.ipynb",
      "provenance": [],
      "collapsed_sections": []
    },
    "kernelspec": {
      "name": "python3",
      "display_name": "Python 3"
    },
    "language_info": {
      "name": "python"
    }
  },
  "cells": [
    {
      "cell_type": "markdown",
      "metadata": {
        "id": "V2e5uhU7zwQF"
      },
      "source": [
        "# Ada - Milestone 2\n",
        "\n",
        "\n",
        "\n"
      ]
    },
    {
      "cell_type": "markdown",
      "metadata": {
        "id": "-tVsH_BIz8Dr"
      },
      "source": [
        "## Installations"
      ]
    },
    {
      "cell_type": "code",
      "metadata": {
        "id": "Etc9A5a1sqc4",
        "colab": {
          "base_uri": "https://localhost:8080/"
        },
        "outputId": "a35b1983-1838-41df-9455-8e574b8e21f2"
      },
      "source": [
        "!pip install pandas==1.0.5"
      ],
      "execution_count": null,
      "outputs": [
        {
          "output_type": "stream",
          "name": "stdout",
          "text": [
            "Requirement already satisfied: pandas==1.0.5 in /usr/local/lib/python3.7/dist-packages (1.0.5)\n",
            "Requirement already satisfied: python-dateutil>=2.6.1 in /usr/local/lib/python3.7/dist-packages (from pandas==1.0.5) (2.8.2)\n",
            "Requirement already satisfied: pytz>=2017.2 in /usr/local/lib/python3.7/dist-packages (from pandas==1.0.5) (2018.9)\n",
            "Requirement already satisfied: numpy>=1.13.3 in /usr/local/lib/python3.7/dist-packages (from pandas==1.0.5) (1.19.5)\n",
            "Requirement already satisfied: six>=1.5 in /usr/local/lib/python3.7/dist-packages (from python-dateutil>=2.6.1->pandas==1.0.5) (1.15.0)\n"
          ]
        }
      ]
    },
    {
      "cell_type": "code",
      "metadata": {
        "id": "EGi5sRlWA0XF",
        "colab": {
          "base_uri": "https://localhost:8080/"
        },
        "outputId": "ccd6f021-9e5d-4f32-a21c-acc841785de7"
      },
      "source": [
        "pip install tqdm"
      ],
      "execution_count": null,
      "outputs": [
        {
          "output_type": "stream",
          "name": "stdout",
          "text": [
            "Requirement already satisfied: tqdm in /usr/local/lib/python3.7/dist-packages (4.62.3)\n"
          ]
        }
      ]
    },
    {
      "cell_type": "code",
      "metadata": {
        "id": "dphORftOJhyW"
      },
      "source": [
        "!pip install newspaper3k"
      ],
      "execution_count": null,
      "outputs": []
    },
    {
      "cell_type": "markdown",
      "metadata": {
        "id": "gU1QI-_j0C0b"
      },
      "source": [
        "## Importations"
      ]
    },
    {
      "cell_type": "code",
      "metadata": {
        "id": "ftI5QiotsyAp"
      },
      "source": [
        "import pandas as pd\n",
        "from tqdm import tqdm\n",
        "from google.colab import drive\n",
        "#from tld import get_tld\n",
        "import bz2\n",
        "import json\n",
        "import pickle as pkl\n",
        "import matplotlib.pyplot as plt\n",
        "import numpy as np\n",
        "from sklearn.model_selection import train_test_split\n",
        "import nltk\n",
        "nltk.download('punkt') # needed for Article\n",
        "from newspaper import Article"
      ],
      "execution_count": null,
      "outputs": []
    },
    {
      "cell_type": "markdown",
      "metadata": {
        "id": "zFl5VogPMCrm"
      },
      "source": [
        "The data are too big to have them locally. We thus use google drive to manipulate our data."
      ]
    },
    {
      "cell_type": "code",
      "metadata": {
        "id": "uTPM00mBs03w",
        "colab": {
          "base_uri": "https://localhost:8080/"
        },
        "outputId": "4cae8c52-39f7-4759-d7ae-371d39eaa54c"
      },
      "source": [
        "drive.mount('/content/drive')"
      ],
      "execution_count": null,
      "outputs": [
        {
          "output_type": "stream",
          "name": "stdout",
          "text": [
            "Drive already mounted at /content/drive; to attempt to forcibly remount, call drive.mount(\"/content/drive\", force_remount=True).\n"
          ]
        }
      ]
    },
    {
      "cell_type": "markdown",
      "metadata": {
        "id": "PHljmaFv0LLE"
      },
      "source": [
        "## Speaker_attribute Dataset\n"
      ]
    },
    {
      "cell_type": "markdown",
      "metadata": {
        "id": "f1aZQPt2MiL9"
      },
      "source": [
        "We first get the parquet file used to describe our data. The table contains the name of a speaker with his aliases, his gender, birth date, occupation, religion, ethnic group, politic orientation, party academical degree and his nationality. \n",
        "The link to our dataset will be represented by the column id. This column contains the wikidata identifier of our speaker."
      ]
    },
    {
      "cell_type": "code",
      "metadata": {
        "id": "vgCj5V0IkVjt"
      },
      "source": [
        "path_parquet = '/content/drive/MyDrive/ADA/Project datasets/speaker_attributes.parquet'\n",
        "parquet = pd.read_parquet(path_parquet)\n",
        "\n",
        "initial_parquet = parquet.copy()"
      ],
      "execution_count": null,
      "outputs": []
    },
    {
      "cell_type": "markdown",
      "metadata": {
        "id": "qETunVshNwdV"
      },
      "source": [
        "Here is what our dataset looks like:"
      ]
    },
    {
      "cell_type": "code",
      "metadata": {
        "id": "dXi22jF2Nvtv",
        "colab": {
          "base_uri": "https://localhost:8080/",
          "height": 341
        },
        "outputId": "bc634097-cb50-4629-a232-45bf91e8adc4"
      },
      "source": [
        "parquet.sample(5)"
      ],
      "execution_count": null,
      "outputs": [
        {
          "output_type": "execute_result",
          "data": {
            "text/html": [
              "<div>\n",
              "<style scoped>\n",
              "    .dataframe tbody tr th:only-of-type {\n",
              "        vertical-align: middle;\n",
              "    }\n",
              "\n",
              "    .dataframe tbody tr th {\n",
              "        vertical-align: top;\n",
              "    }\n",
              "\n",
              "    .dataframe thead th {\n",
              "        text-align: right;\n",
              "    }\n",
              "</style>\n",
              "<table border=\"1\" class=\"dataframe\">\n",
              "  <thead>\n",
              "    <tr style=\"text-align: right;\">\n",
              "      <th></th>\n",
              "      <th>aliases</th>\n",
              "      <th>date_of_birth</th>\n",
              "      <th>nationality</th>\n",
              "      <th>gender</th>\n",
              "      <th>lastrevid</th>\n",
              "      <th>ethnic_group</th>\n",
              "      <th>US_congress_bio_ID</th>\n",
              "      <th>occupation</th>\n",
              "      <th>party</th>\n",
              "      <th>academic_degree</th>\n",
              "      <th>id</th>\n",
              "      <th>label</th>\n",
              "      <th>candidacy</th>\n",
              "      <th>type</th>\n",
              "      <th>religion</th>\n",
              "    </tr>\n",
              "  </thead>\n",
              "  <tbody>\n",
              "    <tr>\n",
              "      <th>1500861</th>\n",
              "      <td>[Amber rowan]</td>\n",
              "      <td>None</td>\n",
              "      <td>[Q27]</td>\n",
              "      <td>[Q6581072]</td>\n",
              "      <td>1341238439</td>\n",
              "      <td>None</td>\n",
              "      <td>None</td>\n",
              "      <td>[Q33999, Q10800557]</td>\n",
              "      <td>None</td>\n",
              "      <td>None</td>\n",
              "      <td>Q21281983</td>\n",
              "      <td>Amber Jean Rowan</td>\n",
              "      <td>None</td>\n",
              "      <td>item</td>\n",
              "      <td>None</td>\n",
              "    </tr>\n",
              "    <tr>\n",
              "      <th>6517709</th>\n",
              "      <td>None</td>\n",
              "      <td>None</td>\n",
              "      <td>None</td>\n",
              "      <td>None</td>\n",
              "      <td>1351720960</td>\n",
              "      <td>None</td>\n",
              "      <td>None</td>\n",
              "      <td>[Q1650915]</td>\n",
              "      <td>None</td>\n",
              "      <td>None</td>\n",
              "      <td>Q90433704</td>\n",
              "      <td>Danielle Gualandro</td>\n",
              "      <td>None</td>\n",
              "      <td>item</td>\n",
              "      <td>None</td>\n",
              "    </tr>\n",
              "    <tr>\n",
              "      <th>1366761</th>\n",
              "      <td>None</td>\n",
              "      <td>[+1921-12-11T00:00:00Z]</td>\n",
              "      <td>[Q17]</td>\n",
              "      <td>[Q6581097]</td>\n",
              "      <td>1328508974</td>\n",
              "      <td>None</td>\n",
              "      <td>None</td>\n",
              "      <td>[Q4964182]</td>\n",
              "      <td>None</td>\n",
              "      <td>None</td>\n",
              "      <td>Q11453328</td>\n",
              "      <td>Akira Miyauchi</td>\n",
              "      <td>None</td>\n",
              "      <td>item</td>\n",
              "      <td>None</td>\n",
              "    </tr>\n",
              "    <tr>\n",
              "      <th>5482449</th>\n",
              "      <td>None</td>\n",
              "      <td>None</td>\n",
              "      <td>None</td>\n",
              "      <td>[Q6581072]</td>\n",
              "      <td>1295319063</td>\n",
              "      <td>None</td>\n",
              "      <td>None</td>\n",
              "      <td>None</td>\n",
              "      <td>None</td>\n",
              "      <td>None</td>\n",
              "      <td>Q95662106</td>\n",
              "      <td>Josephine Herzog</td>\n",
              "      <td>None</td>\n",
              "      <td>item</td>\n",
              "      <td>None</td>\n",
              "    </tr>\n",
              "    <tr>\n",
              "      <th>2884103</th>\n",
              "      <td>None</td>\n",
              "      <td>[+1945-01-01T00:00:00Z]</td>\n",
              "      <td>[Q30]</td>\n",
              "      <td>[Q6581097]</td>\n",
              "      <td>1334311861</td>\n",
              "      <td>None</td>\n",
              "      <td>None</td>\n",
              "      <td>[Q1225716, Q864503, Q36180]</td>\n",
              "      <td>None</td>\n",
              "      <td>None</td>\n",
              "      <td>Q61882932</td>\n",
              "      <td>Richard Dolbeer</td>\n",
              "      <td>None</td>\n",
              "      <td>item</td>\n",
              "      <td>None</td>\n",
              "    </tr>\n",
              "  </tbody>\n",
              "</table>\n",
              "</div>"
            ],
            "text/plain": [
              "               aliases            date_of_birth  ...  type religion\n",
              "1500861  [Amber rowan]                     None  ...  item     None\n",
              "6517709           None                     None  ...  item     None\n",
              "1366761           None  [+1921-12-11T00:00:00Z]  ...  item     None\n",
              "5482449           None                     None  ...  item     None\n",
              "2884103           None  [+1945-01-01T00:00:00Z]  ...  item     None\n",
              "\n",
              "[5 rows x 15 columns]"
            ]
          },
          "metadata": {},
          "execution_count": 7
        }
      ]
    },
    {
      "cell_type": "markdown",
      "metadata": {
        "id": "lHCRBE8AMnWW"
      },
      "source": [
        "Then we process it in order to have the interesting data we want. We only keep the gender, the occupation, the id, the name of the speaker and the date of birth colomns and we chek if all these lines are full."
      ]
    },
    {
      "cell_type": "code",
      "metadata": {
        "id": "0OmRF6VDBd_l"
      },
      "source": [
        "# DEBUG : If needed to reintialize the dataset\n",
        "\n",
        "#parquet=initial_parquet[['gender', 'label', 'id', 'occupation', 'date_of_birth']].copy()"
      ],
      "execution_count": null,
      "outputs": []
    },
    {
      "cell_type": "code",
      "metadata": {
        "id": "W4AGy8xLlEeN"
      },
      "source": [
        "# Process parquet\n",
        "\n",
        "nb_data_before = len(parquet)\n",
        "\n",
        "# Remove rows with gender = None\n",
        "parquet = parquet[~(parquet.gender.isnull())]\n",
        "# Keep unique gender\n",
        "parquet = parquet[parquet.gender.apply(lambda x: len(x)==1)]\n",
        "nb_diff_data_gender = nb_data_before-len(parquet)\n",
        "\n",
        "nb_data = len(parquet)\n",
        "# Remove rows with occupation = None\n",
        "parquet = parquet[~(parquet.occupation.isnull())]\n",
        "nb_diff_data_occupation = nb_data-len(parquet)\n",
        "\n",
        "nb_data = len(parquet)\n",
        "# Remove rows with date_of_birth = None\n",
        "parquet = parquet[~(parquet.date_of_birth.isnull())]\n",
        "# Keep only unique date of birth\n",
        "parquet = parquet[parquet.date_of_birth.apply(lambda x: len(x)==1)]\n",
        "nb_diff_data_date_of_birth = nb_data-len(parquet)\n",
        "# Keep only the year of birth the month and day are not relevant in terms of age\n",
        "parquet.date_of_birth = parquet.date_of_birth.apply(lambda x : x[0][0:5])\n",
        "\n",
        "\n",
        "# remove rows with label = None\n",
        "parquet = parquet[~(parquet.label.isnull())]\n",
        "\n",
        "#remove rows with id = None\n",
        "parquet=parquet[~(parquet.id.isnull())]"
      ],
      "execution_count": null,
      "outputs": []
    },
    {
      "cell_type": "markdown",
      "metadata": {
        "id": "y9mCDTVcNcHF"
      },
      "source": [
        "Here is what our data looks like now."
      ]
    },
    {
      "cell_type": "code",
      "metadata": {
        "id": "4RMvrLW4lOaN",
        "colab": {
          "base_uri": "https://localhost:8080/",
          "height": 307
        },
        "outputId": "fb18bdcc-0e5f-4abe-d152-56ef495bb8a5"
      },
      "source": [
        "parquet.sample(5)"
      ],
      "execution_count": null,
      "outputs": [
        {
          "output_type": "execute_result",
          "data": {
            "text/html": [
              "<div>\n",
              "<style scoped>\n",
              "    .dataframe tbody tr th:only-of-type {\n",
              "        vertical-align: middle;\n",
              "    }\n",
              "\n",
              "    .dataframe tbody tr th {\n",
              "        vertical-align: top;\n",
              "    }\n",
              "\n",
              "    .dataframe thead th {\n",
              "        text-align: right;\n",
              "    }\n",
              "</style>\n",
              "<table border=\"1\" class=\"dataframe\">\n",
              "  <thead>\n",
              "    <tr style=\"text-align: right;\">\n",
              "      <th style=\"min-width: {};\"></th>\n",
              "      <th style=\"min-width: {};\">aliases</th>\n",
              "      <th style=\"min-width: {};\">date_of_birth</th>\n",
              "      <th style=\"min-width: {};\">nationality</th>\n",
              "      <th style=\"min-width: {};\">gender</th>\n",
              "      <th style=\"min-width: {};\">lastrevid</th>\n",
              "      <th style=\"min-width: {};\">ethnic_group</th>\n",
              "      <th style=\"min-width: {};\">US_congress_bio_ID</th>\n",
              "      <th style=\"min-width: {};\">occupation</th>\n",
              "      <th style=\"min-width: {};\">party</th>\n",
              "      <th style=\"min-width: {};\">academic_degree</th>\n",
              "      <th style=\"min-width: {};\">id</th>\n",
              "      <th style=\"min-width: {};\">label</th>\n",
              "      <th style=\"min-width: {};\">candidacy</th>\n",
              "      <th style=\"min-width: {};\">type</th>\n",
              "      <th style=\"min-width: {};\">religion</th>\n",
              "    </tr>\n",
              "  </thead>\n",
              "  <tbody>\n",
              "    <tr>\n",
              "      <th>8154174</th>\n",
              "      <td>None</td>\n",
              "      <td>+1944</td>\n",
              "      <td>[Q408]</td>\n",
              "      <td>[Q6581097]</td>\n",
              "      <td>1376793259</td>\n",
              "      <td>None</td>\n",
              "      <td>None</td>\n",
              "      <td>[Q37226]</td>\n",
              "      <td>None</td>\n",
              "      <td>None</td>\n",
              "      <td>Q11350332</td>\n",
              "      <td>Roger Pulvers</td>\n",
              "      <td>None</td>\n",
              "      <td>item</td>\n",
              "      <td>None</td>\n",
              "    </tr>\n",
              "    <tr>\n",
              "      <th>4845687</th>\n",
              "      <td>None</td>\n",
              "      <td>+1968</td>\n",
              "      <td>[Q43]</td>\n",
              "      <td>[Q6581097]</td>\n",
              "      <td>1349343412</td>\n",
              "      <td>None</td>\n",
              "      <td>None</td>\n",
              "      <td>[Q33231]</td>\n",
              "      <td>None</td>\n",
              "      <td>None</td>\n",
              "      <td>Q17046204</td>\n",
              "      <td>Nihat Odabaşı</td>\n",
              "      <td>None</td>\n",
              "      <td>item</td>\n",
              "      <td>None</td>\n",
              "    </tr>\n",
              "    <tr>\n",
              "      <th>4337676</th>\n",
              "      <td>None</td>\n",
              "      <td>+1921</td>\n",
              "      <td>None</td>\n",
              "      <td>[Q6581072]</td>\n",
              "      <td>1310950736</td>\n",
              "      <td>None</td>\n",
              "      <td>None</td>\n",
              "      <td>[Q36180, Q49757]</td>\n",
              "      <td>None</td>\n",
              "      <td>None</td>\n",
              "      <td>Q95211306</td>\n",
              "      <td>Brigitte Fiedler</td>\n",
              "      <td>None</td>\n",
              "      <td>item</td>\n",
              "      <td>None</td>\n",
              "    </tr>\n",
              "    <tr>\n",
              "      <th>4012587</th>\n",
              "      <td>None</td>\n",
              "      <td>+1734</td>\n",
              "      <td>None</td>\n",
              "      <td>[Q6581097]</td>\n",
              "      <td>1341209061</td>\n",
              "      <td>None</td>\n",
              "      <td>None</td>\n",
              "      <td>[Q36180]</td>\n",
              "      <td>None</td>\n",
              "      <td>None</td>\n",
              "      <td>Q61482377</td>\n",
              "      <td>Vincenzo Tarino</td>\n",
              "      <td>None</td>\n",
              "      <td>item</td>\n",
              "      <td>None</td>\n",
              "    </tr>\n",
              "    <tr>\n",
              "      <th>6069861</th>\n",
              "      <td>None</td>\n",
              "      <td>+1984</td>\n",
              "      <td>[Q39]</td>\n",
              "      <td>[Q6581072]</td>\n",
              "      <td>1349003865</td>\n",
              "      <td>None</td>\n",
              "      <td>None</td>\n",
              "      <td>[Q432386, Q15253558]</td>\n",
              "      <td>None</td>\n",
              "      <td>None</td>\n",
              "      <td>Q27779399</td>\n",
              "      <td>Nora Illi</td>\n",
              "      <td>None</td>\n",
              "      <td>item</td>\n",
              "      <td>[Q432]</td>\n",
              "    </tr>\n",
              "  </tbody>\n",
              "</table>\n",
              "</div>"
            ],
            "text/plain": [
              "        aliases date_of_birth nationality  ... candidacy  type religion\n",
              "8154174    None         +1944      [Q408]  ...      None  item     None\n",
              "4845687    None         +1968       [Q43]  ...      None  item     None\n",
              "4337676    None         +1921        None  ...      None  item     None\n",
              "4012587    None         +1734        None  ...      None  item     None\n",
              "6069861    None         +1984       [Q39]  ...      None  item   [Q432]\n",
              "\n",
              "[5 rows x 15 columns]"
            ]
          },
          "metadata": {},
          "execution_count": 11
        }
      ]
    },
    {
      "cell_type": "markdown",
      "metadata": {
        "id": "WBWf4O0-OeWl"
      },
      "source": [
        "Here is a small pie graph to see how much data we erase."
      ]
    },
    {
      "cell_type": "code",
      "metadata": {
        "id": "xNlTf4mLOs6U",
        "colab": {
          "base_uri": "https://localhost:8080/",
          "height": 264
        },
        "outputId": "97e8ceb9-f7f6-4b01-f3d8-72a36bae9f6e"
      },
      "source": [
        "gender_proportion = nb_diff_data_gender*100.0/nb_data_before\n",
        "occupation_proportion = nb_diff_data_occupation*100.0/nb_data_before\n",
        "date_of_birth_proportion = nb_diff_data_date_of_birth*100.0/nb_data_before\n",
        "data_proportion = len(parquet)*100.0/nb_data_before\n",
        "\n",
        "y = np.array([gender_proportion, occupation_proportion, date_of_birth_proportion,data_proportion])\n",
        "labels = [\"Genre\", \"Occupation\", \"Date of birth\", \"Data kept\"]\n",
        "\n",
        "plt.title('Proportion of the losses of the data')\n",
        "plt.pie(y, labels = labels, startangle = 90, autopct='%1.1f%%')\n",
        "plt.show() "
      ],
      "execution_count": null,
      "outputs": [
        {
          "output_type": "display_data",
          "data": {
            "image/png": "[encoded data removed]",
            "text/plain": [
              "<Figure size 432x288 with 1 Axes>"
            ]
          },
          "metadata": {}
        }
      ]
    },
    {
      "cell_type": "markdown",
      "metadata": {
        "id": "aOsYqAHIIV30"
      },
      "source": [
        "Here, we convert the colomn _Gender_ into what their Qcode mean. To do so, we use a dictionnary and an enum. Both help us, with an id array to translate quickely from a form to another."
      ]
    },
    {
      "cell_type": "code",
      "metadata": {
        "id": "FqL8B0u8blcI"
      },
      "source": [
        "path_label = '/content/drive/MyDrive/ADA/Project datasets/wikidata_labels_descriptions_quotebank.csv.bz2'\n",
        "labels = pd.read_csv(path_label, compression='bz2')"
      ],
      "execution_count": null,
      "outputs": []
    },
    {
      "cell_type": "code",
      "metadata": {
        "id": "JC6cfRJJYhIN"
      },
      "source": [
        "parquet[\"occupation_name\"] = parquet.occupation\n",
        "\n",
        "quids_redir = {'Q3268166': 'clinical psychologist', 'Q12014399': 'catholic priest', 'Q11819457': 'visual artist',\n",
        "               'Q12334852': 'sailor', 'Q3186984': 'journalist', 'Q15991263': 'auctioneer', 'Q12455619': 'social worker',\n",
        "               'Q1248362': 'director of a creative work', 'Q13365117': 'handball player', 'Q21550646': 'glass painter',\n",
        "               'Q99753484': 'not found', 'Q6363085': 'advocate', 'Q16287483': 'opinion journalist', 'Q13424794': 'computational scientist',\n",
        "               'Q11815360': 'pediatrician', 'Q5568256': 'forester'}\n",
        "\n",
        "quids_enum = ['Q3268166','Q12014399', 'Q11819457','Q12334852','Q3186984','Q15991263','Q12455619',\n",
        "               'Q1248362', 'Q13365117', 'Q21550646','Q99753484', 'Q6363085', 'Q16287483', 'Q13424794','Q11815360', 'Q5568256']\n",
        "\n",
        "for i,occ in zip(tqdm(range(len(labels))),labels[\"QID\"]):\n",
        "  id = (parquet.occupation==occ)\n",
        "  try:\n",
        "    parquet.occupation_name[id] == labels.iloc[\"Label\"][i]\n",
        "  except KeyError:\n",
        "    parquet.occupation_name=None\n",
        "\n",
        "for i, occ in zip(tqdm(range(len(quids_enum))),quids_enum):\n",
        "  id = (parquet.occupation==occ)\n",
        "  try:\n",
        "    parquet.occupation_name[id] == quids_redir[occ]\n",
        "  except KeyError:\n",
        "    parquet.occupation_name=None\n",
        "\n",
        "if(parquet.occupation_name.isnull()) : \n",
        "  print('Id: '+parquet[parquet.occupation_name.isnull()].occupation+' was not found in label_descriptions')\n"
      ],
      "execution_count": null,
      "outputs": []
    },
    {
      "cell_type": "code",
      "metadata": {
        "id": "uAW1EHqw1H-v"
      },
      "source": [
        "# Convert wiki ids to strings - v3\n",
        "gender_dic =  {'Q1052281':    'transgender female', \n",
        "               'Q106299064':  'Erkek',\n",
        "               'Q1097630':    'intersex',\n",
        "               'Q1289754':    'neutrois',\n",
        "               'Q12964198':   'genderqueer',\n",
        "               'Q15145778':   'cisgender male',\n",
        "               'Q15145779':   'cisgender female',\n",
        "               'Q179294':     'eunuch',\n",
        "               'Q18116794':   'genderfluid',\n",
        "               'Q189125':     'transgender person',\n",
        "               'Q1984232':    'shemale',\n",
        "               'Q2449503':    'transgender male',\n",
        "               'Q27679766':   'transmasculine',\n",
        "               'Q301702':     'two-spirit',\n",
        "               'Q3177577':    'muxe',\n",
        "               'Q43445':      'female organism',\n",
        "               'Q44148':      'male organism',\n",
        "               'Q48270':      'non-binary',\n",
        "               'Q48279':      'third gender',\n",
        "               'Q505371':     'agender',\n",
        "               'Q52261234':   'neutral sex',\n",
        "               'Q6581072':    'female',\n",
        "               'Q6581097':    'male',\n",
        "               'Q6636':       'homosexuality',\n",
        "               'Q7130936':    'pangender',\n",
        "               'Q746411':     'kathoey',\n",
        "               'Q859614':     'bigender',\n",
        "               'Q93954933':   'demiboy',\n",
        "               'Q96000630':   'X-gender'}\n",
        "\n",
        "gender_enum = ['Q1052281','Q106299064','Q1097630','Q1289754','Q12964198','Q15145778','Q15145779',\n",
        "               'Q179294','Q18116794','Q189125','Q1984232','Q2449503','Q27679766','Q301702','Q3177577',\n",
        "               'Q43445','Q44148','Q48270','Q48279','Q505371','Q52261234','Q6581072','Q6581097',\n",
        "               'Q6636','Q7130936','Q746411','Q859614','Q93954933','Q96000630']\n",
        "\n",
        "for i, gender in zip(tqdm(range(len(gender_enum))),gender_enum):  #tqdm shows the timing of the process\n",
        "  id = (parquet.gender==gender)\n",
        "  try:\n",
        "    parquet.gender[id] = gender_dic[gender]\n",
        "  except KeyError:\n",
        "        print('Id: '+gender+' was not found in label_descriptions')\n",
        "  #print(parquet.gender[i])"
      ],
      "execution_count": null,
      "outputs": []
    },
    {
      "cell_type": "markdown",
      "metadata": {
        "id": "VSCBgS9HWY1V"
      },
      "source": [
        "Here is how our dataset finaly looks like."
      ]
    },
    {
      "cell_type": "code",
      "metadata": {
        "id": "Jyj7cueWWeRF",
        "colab": {
          "base_uri": "https://localhost:8080/"
        },
        "outputId": "b328c561-023f-4160-8d54-e59e93cfbb6c"
      },
      "source": [
        "parquet.sample(5)"
      ],
      "execution_count": null,
      "outputs": [
        {
          "output_type": "execute_result",
          "data": {
            "text/html": [
              "<div>\n",
              "<style scoped>\n",
              "    .dataframe tbody tr th:only-of-type {\n",
              "        vertical-align: middle;\n",
              "    }\n",
              "\n",
              "    .dataframe tbody tr th {\n",
              "        vertical-align: top;\n",
              "    }\n",
              "\n",
              "    .dataframe thead th {\n",
              "        text-align: right;\n",
              "    }\n",
              "</style>\n",
              "<table border=\"1\" class=\"dataframe\">\n",
              "  <thead>\n",
              "    <tr style=\"text-align: right;\">\n",
              "      <th style=\"min-width: {};\"></th>\n",
              "      <th style=\"min-width: {};\">aliases</th>\n",
              "      <th style=\"min-width: {};\">date_of_birth</th>\n",
              "      <th style=\"min-width: {};\">nationality</th>\n",
              "      <th style=\"min-width: {};\">gender</th>\n",
              "      <th style=\"min-width: {};\">lastrevid</th>\n",
              "      <th style=\"min-width: {};\">ethnic_group</th>\n",
              "      <th style=\"min-width: {};\">US_congress_bio_ID</th>\n",
              "      <th style=\"min-width: {};\">occupation</th>\n",
              "      <th style=\"min-width: {};\">party</th>\n",
              "      <th style=\"min-width: {};\">academic_degree</th>\n",
              "      <th style=\"min-width: {};\">id</th>\n",
              "      <th style=\"min-width: {};\">label</th>\n",
              "      <th style=\"min-width: {};\">candidacy</th>\n",
              "      <th style=\"min-width: {};\">type</th>\n",
              "      <th style=\"min-width: {};\">religion</th>\n",
              "    </tr>\n",
              "  </thead>\n",
              "  <tbody>\n",
              "    <tr>\n",
              "      <th>8004760</th>\n",
              "      <td>None</td>\n",
              "      <td>+1969</td>\n",
              "      <td>[Q31]</td>\n",
              "      <td>male</td>\n",
              "      <td>1288465041</td>\n",
              "      <td>None</td>\n",
              "      <td>None</td>\n",
              "      <td>[Q2309784]</td>\n",
              "      <td>None</td>\n",
              "      <td>None</td>\n",
              "      <td>Q2794011</td>\n",
              "      <td>Koen De Koker</td>\n",
              "      <td>None</td>\n",
              "      <td>item</td>\n",
              "      <td>None</td>\n",
              "    </tr>\n",
              "    <tr>\n",
              "      <th>3777478</th>\n",
              "      <td>[A. N. Baker, Alan Baker, Alan N. Baker]</td>\n",
              "      <td>+1940</td>\n",
              "      <td>[Q664]</td>\n",
              "      <td>male</td>\n",
              "      <td>1322089493</td>\n",
              "      <td>None</td>\n",
              "      <td>None</td>\n",
              "      <td>[Q350979, Q3640160, Q674426]</td>\n",
              "      <td>None</td>\n",
              "      <td>None</td>\n",
              "      <td>Q22105323</td>\n",
              "      <td>Alan Noel Baker</td>\n",
              "      <td>None</td>\n",
              "      <td>item</td>\n",
              "      <td>None</td>\n",
              "    </tr>\n",
              "    <tr>\n",
              "      <th>1526586</th>\n",
              "      <td>None</td>\n",
              "      <td>+1926</td>\n",
              "      <td>[Q30]</td>\n",
              "      <td>male</td>\n",
              "      <td>1319771647</td>\n",
              "      <td>None</td>\n",
              "      <td>None</td>\n",
              "      <td>[Q49757]</td>\n",
              "      <td>None</td>\n",
              "      <td>None</td>\n",
              "      <td>Q24256986</td>\n",
              "      <td>Ralph Salisbury</td>\n",
              "      <td>None</td>\n",
              "      <td>item</td>\n",
              "      <td>None</td>\n",
              "    </tr>\n",
              "    <tr>\n",
              "      <th>2636592</th>\n",
              "      <td>None</td>\n",
              "      <td>+1969</td>\n",
              "      <td>None</td>\n",
              "      <td>male</td>\n",
              "      <td>1367936713</td>\n",
              "      <td>None</td>\n",
              "      <td>None</td>\n",
              "      <td>[Q1028181]</td>\n",
              "      <td>None</td>\n",
              "      <td>None</td>\n",
              "      <td>Q21485164</td>\n",
              "      <td>Chris Langlois</td>\n",
              "      <td>None</td>\n",
              "      <td>item</td>\n",
              "      <td>None</td>\n",
              "    </tr>\n",
              "    <tr>\n",
              "      <th>1176605</th>\n",
              "      <td>None</td>\n",
              "      <td>+1867</td>\n",
              "      <td>[Q183]</td>\n",
              "      <td>male</td>\n",
              "      <td>1384237954</td>\n",
              "      <td>None</td>\n",
              "      <td>None</td>\n",
              "      <td>[Q15983985, Q674426, Q5758653]</td>\n",
              "      <td>None</td>\n",
              "      <td>None</td>\n",
              "      <td>Q1309598</td>\n",
              "      <td>Otto Rubensohn</td>\n",
              "      <td>None</td>\n",
              "      <td>item</td>\n",
              "      <td>None</td>\n",
              "    </tr>\n",
              "  </tbody>\n",
              "</table>\n",
              "</div>"
            ],
            "text/plain": [
              "                                          aliases date_of_birth  ...  type religion\n",
              "8004760                                      None         +1969  ...  item     None\n",
              "3777478  [A. N. Baker, Alan Baker, Alan N. Baker]         +1940  ...  item     None\n",
              "1526586                                      None         +1926  ...  item     None\n",
              "2636592                                      None         +1969  ...  item     None\n",
              "1176605                                      None         +1867  ...  item     None\n",
              "\n",
              "[5 rows x 15 columns]"
            ]
          },
          "metadata": {},
          "execution_count": 15
        }
      ]
    },
    {
      "cell_type": "markdown",
      "metadata": {
        "id": "eeKJ5dSIFwPu"
      },
      "source": [
        "## Quotebank Dataset\n"
      ]
    },
    {
      "cell_type": "markdown",
      "metadata": {
        "id": "Wp1puwZFYNdl"
      },
      "source": [
        "First, we define our sort functions : process_probas and process_qchunk. \n",
        "\n",
        "The first one do is used to check if the probability of a speaker for a given quote is more than 70%. We chose that threshold because we want to avoid probabilities close to 0.5, because the odd to make a mistake is 1:1. We want to make sure that our speaker probability is not random. \n",
        "We use the second one to clean the data and form our final dataset."
      ]
    },
    {
      "cell_type": "code",
      "metadata": {
        "id": "xN9NUBIS-FUt"
      },
      "source": [
        "# Process_probas\n",
        "\n",
        "def process_probas(speakers_probas): # In case the most probable speaker isn't the first one\n",
        "  # Flatten probas into a single list\n",
        "  flat = [item for sublist in speakers_probas for item in sublist]\n",
        "  # Extract probs\n",
        "  probas = [float(p) for i,p in enumerate(flat) if i%2]\n",
        "  return (max(probas) > 0.7) # Return 1 if the max proba > 0.7\n",
        "\n",
        "\n",
        "\n",
        "# Process_qchunk\n",
        "\n",
        "def process_qchunk(chunk, path): # Quotebank chunk\n",
        "  rem = []\n",
        "\n",
        "  # Drop rows where speaker==None\n",
        "  initial_n = len(chunk)\n",
        "  chunk = chunk[chunk.speaker != 'None']\n",
        "  rem.append(initial_n-len(chunk)) \n",
        "\n",
        "  # Keep only quotes with very probable speaker\n",
        "  initial_n = len(chunk)\n",
        "  chunk = chunk[chunk.probas.apply(process_probas)] \n",
        "  rem.append(initial_n-len(chunk))\n",
        "\n",
        "  # Keep only numOcurrences > 0 ?\n",
        "  initial_n = len(chunk)\n",
        "  chunk = chunk[chunk.numOccurrences > 0]\n",
        "  rem.append(initial_n-len(chunk))\n",
        "\n",
        "  # Keep only qid size=1\n",
        "  initial_n = len(chunk)\n",
        "  chunk = chunk[chunk.qids.apply(lambda x: len(x)==1)]\n",
        "  rem.append(initial_n-len(chunk))\n",
        "\n",
        "  # Save to pickle\n",
        "  with open(path, 'ab') as dest: # use pkl.load(dest) to recover **chunks**\n",
        "    pkl.dump(chunk, dest)\n",
        "\n",
        "  return rem"
      ],
      "execution_count": null,
      "outputs": []
    },
    {
      "cell_type": "markdown",
      "metadata": {
        "id": "xpPSBw_5Ffqw"
      },
      "source": [
        "Here is where we extract the Quotebank dataset and use the functions defined above."
      ]
    },
    {
      "cell_type": "code",
      "metadata": {
        "id": "RC9WGNpL-GC1"
      },
      "source": [
        "# Processing by chunks\n",
        "years = ['2020', '2019', '2018', '2017', '2016', '2015']\n",
        "\n",
        "n_chunks = [0]*len(years)    # needed for read back\n",
        "processing_steps = 4         # known speaker, very probable speaker, numOcurrences > 0, one single qid,\n",
        "removed = np.zeros((len(years),processing_steps))\n",
        "initial_n = [0]*len(years)\n",
        "\n",
        "for i, year in zip(tqdm(range(len(years))), years):\n",
        "\n",
        "  path_to_sfile = '/content/drive/MyDrive/ADA/Quotebank/quotes-'+year+'.json.bz2' \n",
        "  path_to_dfile = '/content/drive/MyDrive/ADA/quotes-'+year+'_processed.pkl' \n",
        "\n",
        "  df_reader = pd.read_json(path_to_sfile, lines=True, compression='bz2', chunksize=100000)\n",
        "  for chunk in df_reader : \n",
        "    initial_n[i] += len(chunk)\n",
        "    removed[i,:] += process_qchunk(chunk, path_to_dfile)\n",
        "    n_chunks[i] += 1\n",
        "  print(n_chunks)\n",
        "  print('Year: {}  Inital number of samples: {}  Removed: {}  Total: {} '.format(year, initial_n[i], removed[i,:],\n",
        "                                                                                 removed[i,:].sum()))"
      ],
      "execution_count": null,
      "outputs": []
    },
    {
      "cell_type": "markdown",
      "metadata": {
        "id": "hwqDvFNeR77n"
      },
      "source": [
        "Here is a visualisation of the process of our data."
      ]
    },
    {
      "cell_type": "code",
      "metadata": {
        "colab": {
          "base_uri": "https://localhost:8080/",
          "height": 513
        },
        "id": "TCXojUFsRjVK",
        "outputId": "4a22c7f8-bdc1-4284-9a5d-b120c2335dcd"
      },
      "source": [
        "init_nb_sample = [5244449, 21763302, 27228451, 26611588, 13862129, 20874338]\n",
        "nb_sample_none_speaker = [3443605, 14183294, 17670419, 17333298, 11035434, 13858038]\n",
        "nb_sample_prob_speaker = [2419648, 9875076, 12185447, 11948347, 8208739, 9663107]\n",
        "nb_sample_qid_size = [1743841, 7076288, 8623990, 8329693, 6286262, 0]\n",
        "years = ['2020', '2019', '2018', '2017', '2016', '2015']\n",
        "\n",
        "ind = np.arange(len(init_nb_sample))\n",
        "\n",
        "fig = plt.figure(figsize=[10,7])\n",
        "ax = fig.add_subplot(111)\n",
        "ax.bar(x=ind, height=init_nb_sample, width=0.35, align='center', label = 'Sample loss due to in speaker')\n",
        "ax.bar(x=ind, height=nb_sample_none_speaker, width=0.35, align='center', label = 'Sample loss due to the small probability of the speaker')\n",
        "ax.bar(x=ind, height=nb_sample_prob_speaker, width=0.35, align='center', label = 'Sample loss due to lots of Qids size')\n",
        "ax.bar(x=ind, height=nb_sample_qid_size, width=0.35, align='center', label = 'Dataset final')\n",
        "\n",
        "\n",
        "plt.xticks(ind, years)\n",
        "plt.title('Number of data lost per year')\n",
        "plt.legend()\n",
        "plt.xlabel('Years')\n",
        "plt.ylabel('nb_sample')\n",
        "plt.tight_layout()\n",
        "plt.show()"
      ],
      "execution_count": 7,
      "outputs": [
        {
          "output_type": "display_data",
          "data": {
            "image/png": "[encoded data removed]",
            "text/plain": [
              "<Figure size 720x504 with 1 Axes>"
            ]
          },
          "metadata": {
            "needs_background": "light"
          }
        }
      ]
    },
    {
      "cell_type": "markdown",
      "metadata": {
        "id": "byZhfOlSSCzP"
      },
      "source": [
        "We can see that 2020 has much less quotes than the other yers, moreover, we see that we keep a third of our original data for our project."
      ]
    },
    {
      "cell_type": "markdown",
      "metadata": {
        "id": "8VlQ4PTM559L"
      },
      "source": [
        "We then extract the name of the author of the articles using the urls.\n"
      ]
    },
    {
      "cell_type": "code",
      "metadata": {
        "id": "gv7aQqr_Jb6r"
      },
      "source": [
        "# importing name-gender dataset\n",
        "df_names = pd.read_csv('/content/drive/MyDrive/ADA/project/name_gender_dataset.csv')\n",
        "df_names = df_names[['Name', 'Gender']]\n",
        "df_names"
      ],
      "execution_count": null,
      "outputs": []
    },
    {
      "cell_type": "code",
      "metadata": {
        "id": "bHnWDm56J5CX"
      },
      "source": [
        "# checking dataset\n",
        "print(df_names.Name.isnull().sum(), df_names.Gender.isnull().sum())\n",
        "print((df_names.Gender=='M').sum(), (df_names.Gender=='F').sum())\n",
        "print(((df_names.Gender=='M').sum()+(df_names.Gender=='F').sum())==len(df_names))"
      ],
      "execution_count": null,
      "outputs": []
    },
    {
      "cell_type": "code",
      "metadata": {
        "id": "OFn-q8oKJ_aW"
      },
      "source": [
        "# feature extractor\n",
        "def gender_features(word):\n",
        "  return {'last_letter':word[-1],\n",
        "          'last_2letters':word[-2:]}"
      ],
      "execution_count": null,
      "outputs": []
    },
    {
      "cell_type": "markdown",
      "metadata": {
        "id": "hnRd8c266NGN"
      },
      "source": [
        "We use a naive Bayes classifier from NLTK to obtain the gender of the author."
      ]
    },
    {
      "cell_type": "code",
      "metadata": {
        "id": "jI0kIVZuKE5p"
      },
      "source": [
        "# preparing a list of examples and corresponding class labels.\n",
        "labeled_names = [(name, gender) for (name, gender) in zip(df_names.Name, df_names.Gender)]\n",
        "\n",
        "# we use the feature extractor to process the names data.\n",
        "featuresets = [(gender_features(n), gender) for (n, gender) in labeled_names]\n",
        "\n",
        "# Divide the resulting list of feature\n",
        "# sets into a training set and a test set.\n",
        "train_set, test_set = train_test_split(featuresets, test_size=0.25)\n",
        "\n",
        "clf = nltk.NaiveBayesClassifier.train(train_set)\n",
        "\n",
        "print(nltk.classify.accuracy(clf, train_set))\n",
        "print(nltk.classify.accuracy(clf, test_set))"
      ],
      "execution_count": null,
      "outputs": []
    },
    {
      "cell_type": "code",
      "metadata": {
        "id": "J6TULex9FfWL"
      },
      "source": [
        "# Extracts one author name (if found) for each url (if valid)                   11min for 188 quote samples\n",
        "def extract_authors(urls): # Using newspaper3k, try & except because link may be not valid (404 etc.)\n",
        "  names = []               # We could use status code of request otherwise \n",
        "  for link in urls:\n",
        "    article = Article(link)\n",
        "    try: \n",
        "      article.download()\n",
        "      article.parse()\n",
        "      article.nlp()\n",
        "    except:\n",
        "      names.append('Invalid link')\n",
        "    else:\n",
        "      authors = article.authors # could be empty (author not found or article restricted to members-only, ex: http://sunshinecoastdaily.com.au/news/incredible-upside-to-horn-vs-tszyu-bloody-sunday-d/3974224/)\n",
        "      if len(authors)==0:\n",
        "        names.append(None)\n",
        "      else:\n",
        "        names.append(authors[0]) # with [0], it doesn't handle the case when there are several authors  but avoids getting a lot of extra stuff that aren't names    \n",
        "  return names\n",
        "\n",
        "\n",
        "def gender_from_name(names):\n",
        "  # names can contain None, invalid link or (complete) names\n",
        "  # classifier clf used as global because unable to pass it as argument when using .apply(func,args=(clf))\n",
        "  genders = []\n",
        "  for name in names:\n",
        "    if (name==None) or (name=='Invalid link'):\n",
        "      genders.append(None)\n",
        "    else:\n",
        "      sub = name.split(' ')\n",
        "      firstname = sub[0]\n",
        "      if len(firstname) > 1: # to safely extract features\n",
        "        genders.append(clf.classify(gender_features(firstname)))\n",
        "      else:\n",
        "        genders.append(None)\n",
        "  \n",
        "  return genders\n",
        "\n",
        "\n",
        "\n",
        "def process_qchunk2(chunk, path, parquet):\n",
        "  # Merge with parquet\n",
        "  initial_n = len(chunk)\n",
        "  chunk.qids = chunk.qids.apply(lambda x: x[0]) # Extract qid string\n",
        "  # Keep the label of the parquet to uniform the names of the speaker\n",
        "  chunk = chunk.merge(parquet, left_on='qids', right_on='id').drop(labels = [\"speaker\", \"qids\"],axis=1)\n",
        "  \n",
        "  # extract authors\n",
        "  chunk['authors'] = chunk.urls.apply(extract_authors)\n",
        "  # extract author gender\n",
        "  chunk['author_gender'] = chunk.authors.apply(gender_from_name)\n",
        "  rem = initial_n-len(chunk)\n",
        "  \n",
        "  # Save to pickle\n",
        "  with open(path, 'ab') as dest: # use pkl.load(dest) to recover **chunks**\n",
        "    pkl.dump(chunk, dest)\n",
        "\n",
        "  return rem"
      ],
      "execution_count": null,
      "outputs": []
    },
    {
      "cell_type": "code",
      "metadata": {
        "id": "Dn7BlJUu-CqS"
      },
      "source": [
        "n_chunks = []\n",
        "M = [0]*len(years) \n",
        "F = [0]*len(years) \n",
        "removed = [0]*len(years)  # by merge\n",
        "\n",
        "for i,year in enumerate(years):\n",
        "\n",
        "  path_to_sfile = '/content/drive/MyDrive/quotes-'+year+'_processed.pkl' \n",
        "  path_to_dfile = '/content/drive/MyDrive/quotes-'+year+'_processed_merged.pkl' \n",
        "  \n",
        "  with open(path_to_sfile, 'rb') as f:\n",
        "    for chunk_idx in range(n_chunks[i]):\n",
        "      chunk = pkl.load(f)\n",
        "      process_qchunk2(chunk, path_to_dfile, parquet)\n",
        "      F[i] += chunk['gender'].value_counts().sort_index()[0]\n",
        "      M[i] += chunk['gender'].value_counts().sort_index()[1]\n",
        "    \n",
        "    \n",
        "x = np.arange(len(years))  # the years locations\n",
        "width = 0.35  # the width of the bars\n",
        "\n",
        "fig, ax = plt.subplots()\n",
        "rects1 = ax.bar(x - width/2, M, width, label='Men')\n",
        "rects2 = ax.bar(x + width/2, F, width, label='Women')\n",
        "\n",
        "# Add some text for labels, title and custom x-axis tick labels, etc.\n",
        "ax.set_ylabel('Counts')\n",
        "ax.set_title('Count by year and gender')\n",
        "ax.set_xticks(x)\n",
        "ax.set_xticklabels(years)\n",
        "ax.legend()\n",
        "\n",
        "fig.tight_layout()\n",
        "\n",
        "plt.show()"
      ],
      "execution_count": null,
      "outputs": []
    },
    {
      "cell_type": "markdown",
      "metadata": {
        "id": "MbspO7aI6X41"
      },
      "source": [
        "## Start of the analysis\n"
      ]
    },
    {
      "cell_type": "code",
      "metadata": {
        "id": "IAwchc85k6cE"
      },
      "source": [
        "# Start of the analysis of the data\n",
        "years = ['2020', '2019', '2018', '2017', '2016', '2015']\n",
        "\n",
        "n_chunks = [0]*len(years)    # needed for read back\n",
        "processing_steps = 5         # known speaker, very probable speaker, numOcurrences > 0, one single qid, merge\n",
        "removed = np.zeros((len(years),processing_steps))\n",
        "initial_n = [0]*len(years)\n",
        "\n",
        "for i,year in enumerate(years):\n",
        "\n",
        "  path_to_sfile = '/content/drive/MyDrive/ADA/quotes-'+year+'_processed.pkl' \n",
        "  \n",
        "  for chunk in pd.read_pickle(path_to_sfile, lines=True, compression='bz2', chunksize=500000):\n",
        "    F += chunk['gender'].values_counts().sort_index()[0]\n",
        "    M += chunk['gender'].values_counts().sort_index()[1]\n",
        "  plt.pie([F, M], labels=[women, men], normalize=True)\n",
        "\n"
      ],
      "execution_count": null,
      "outputs": []
    }
  ]
}