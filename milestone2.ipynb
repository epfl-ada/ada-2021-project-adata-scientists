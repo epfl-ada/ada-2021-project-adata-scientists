{
  "nbformat": 4,
  "nbformat_minor": 0,
  "metadata": {
    "colab": {
      "name": "milestone2.ipynb",
      "provenance": [],
      "collapsed_sections": []
    },
    "kernelspec": {
      "name": "python3",
      "display_name": "Python 3"
    },
    "language_info": {
      "name": "python"
    }
  },
  "cells": [
    {
      "cell_type": "markdown",
      "metadata": {
        "id": "V2e5uhU7zwQF"
      },
      "source": [
        "# Ada - Milestone 2\n",
        "\n",
        "\n",
        "\n"
      ]
    },
    {
      "cell_type": "markdown",
      "metadata": {
        "id": "-tVsH_BIz8Dr"
      },
      "source": [
        "## Installations"
      ]
    },
    {
      "cell_type": "code",
      "metadata": {
        "id": "Etc9A5a1sqc4",
        "colab": {
          "base_uri": "https://localhost:8080/"
        },
        "outputId": "b7240264-f9b2-4e13-857a-260e6d08e9be"
      },
      "source": [
        "!pip install pandas==1.0.5"
      ],
      "execution_count": null,
      "outputs": [
        {
          "output_type": "stream",
          "name": "stdout",
          "text": [
            "Requirement already satisfied: pandas==1.0.5 in /usr/local/lib/python3.7/dist-packages (1.0.5)\n",
            "Requirement already satisfied: numpy>=1.13.3 in /usr/local/lib/python3.7/dist-packages (from pandas==1.0.5) (1.19.5)\n",
            "Requirement already satisfied: pytz>=2017.2 in /usr/local/lib/python3.7/dist-packages (from pandas==1.0.5) (2018.9)\n",
            "Requirement already satisfied: python-dateutil>=2.6.1 in /usr/local/lib/python3.7/dist-packages (from pandas==1.0.5) (2.8.2)\n",
            "Requirement already satisfied: six>=1.5 in /usr/local/lib/python3.7/dist-packages (from python-dateutil>=2.6.1->pandas==1.0.5) (1.15.0)\n"
          ]
        }
      ]
    },
    {
      "cell_type": "code",
      "metadata": {
        "id": "EGi5sRlWA0XF",
        "colab": {
          "base_uri": "https://localhost:8080/"
        },
        "outputId": "125588fc-8441-4996-d5fb-efbe30f2b1cb"
      },
      "source": [
        "!pip install tqdm"
      ],
      "execution_count": null,
      "outputs": [
        {
          "output_type": "stream",
          "name": "stdout",
          "text": [
            "Requirement already satisfied: tqdm in /usr/local/lib/python3.7/dist-packages (4.62.3)\n"
          ]
        }
      ]
    },
    {
      "cell_type": "code",
      "metadata": {
        "id": "dphORftOJhyW",
        "colab": {
          "base_uri": "https://localhost:8080/"
        },
        "outputId": "84cee401-737f-4138-d230-e33e7ec4cdd6"
      },
      "source": [
        "!pip install newspaper3k"
      ],
      "execution_count": 4,
      "outputs": [
        {
          "output_type": "stream",
          "name": "stdout",
          "text": [
            "Collecting newspaper3k\n",
            "  Downloading newspaper3k-0.2.8-py3-none-any.whl (211 kB)\n",
            "\u001b[?25l\r\u001b[K     |█▌                              | 10 kB 17.9 MB/s eta 0:00:01\r\u001b[K     |███                             | 20 kB 24.2 MB/s eta 0:00:01\r\u001b[K     |████▋                           | 30 kB 28.1 MB/s eta 0:00:01\r\u001b[K     |██████▏                         | 40 kB 19.1 MB/s eta 0:00:01\r\u001b[K     |███████▊                        | 51 kB 8.8 MB/s eta 0:00:01\r\u001b[K     |█████████▎                      | 61 kB 9.7 MB/s eta 0:00:01\r\u001b[K     |██████████▉                     | 71 kB 10.0 MB/s eta 0:00:01\r\u001b[K     |████████████▍                   | 81 kB 11.1 MB/s eta 0:00:01\r\u001b[K     |██████████████                  | 92 kB 11.2 MB/s eta 0:00:01\r\u001b[K     |███████████████▌                | 102 kB 8.5 MB/s eta 0:00:01\r\u001b[K     |█████████████████               | 112 kB 8.5 MB/s eta 0:00:01\r\u001b[K     |██████████████████▋             | 122 kB 8.5 MB/s eta 0:00:01\r\u001b[K     |████████████████████▏           | 133 kB 8.5 MB/s eta 0:00:01\r\u001b[K     |█████████████████████▊          | 143 kB 8.5 MB/s eta 0:00:01\r\u001b[K     |███████████████████████▎        | 153 kB 8.5 MB/s eta 0:00:01\r\u001b[K     |████████████████████████▉       | 163 kB 8.5 MB/s eta 0:00:01\r\u001b[K     |██████████████████████████▍     | 174 kB 8.5 MB/s eta 0:00:01\r\u001b[K     |████████████████████████████    | 184 kB 8.5 MB/s eta 0:00:01\r\u001b[K     |█████████████████████████████▌  | 194 kB 8.5 MB/s eta 0:00:01\r\u001b[K     |███████████████████████████████ | 204 kB 8.5 MB/s eta 0:00:01\r\u001b[K     |████████████████████████████████| 211 kB 8.5 MB/s \n",
            "\u001b[?25hCollecting cssselect>=0.9.2\n",
            "  Downloading cssselect-1.1.0-py2.py3-none-any.whl (16 kB)\n",
            "Requirement already satisfied: PyYAML>=3.11 in /usr/local/lib/python3.7/dist-packages (from newspaper3k) (3.13)\n",
            "Collecting feedparser>=5.2.1\n",
            "  Downloading feedparser-6.0.8-py3-none-any.whl (81 kB)\n",
            "\u001b[K     |████████████████████████████████| 81 kB 8.6 MB/s \n",
            "\u001b[?25hRequirement already satisfied: lxml>=3.6.0 in /usr/local/lib/python3.7/dist-packages (from newspaper3k) (4.2.6)\n",
            "Collecting tldextract>=2.0.1\n",
            "  Downloading tldextract-3.1.2-py2.py3-none-any.whl (87 kB)\n",
            "\u001b[K     |████████████████████████████████| 87 kB 5.5 MB/s \n",
            "\u001b[?25hCollecting jieba3k>=0.35.1\n",
            "  Downloading jieba3k-0.35.1.zip (7.4 MB)\n",
            "\u001b[K     |████████████████████████████████| 7.4 MB 32.0 MB/s \n",
            "\u001b[?25hRequirement already satisfied: requests>=2.10.0 in /usr/local/lib/python3.7/dist-packages (from newspaper3k) (2.23.0)\n",
            "Requirement already satisfied: beautifulsoup4>=4.4.1 in /usr/local/lib/python3.7/dist-packages (from newspaper3k) (4.6.3)\n",
            "Collecting feedfinder2>=0.0.4\n",
            "  Downloading feedfinder2-0.0.4.tar.gz (3.3 kB)\n",
            "Requirement already satisfied: python-dateutil>=2.5.3 in /usr/local/lib/python3.7/dist-packages (from newspaper3k) (2.8.2)\n",
            "Requirement already satisfied: Pillow>=3.3.0 in /usr/local/lib/python3.7/dist-packages (from newspaper3k) (7.1.2)\n",
            "Requirement already satisfied: nltk>=3.2.1 in /usr/local/lib/python3.7/dist-packages (from newspaper3k) (3.2.5)\n",
            "Collecting tinysegmenter==0.3\n",
            "  Downloading tinysegmenter-0.3.tar.gz (16 kB)\n",
            "Requirement already satisfied: six in /usr/local/lib/python3.7/dist-packages (from feedfinder2>=0.0.4->newspaper3k) (1.15.0)\n",
            "Collecting sgmllib3k\n",
            "  Downloading sgmllib3k-1.0.0.tar.gz (5.8 kB)\n",
            "Requirement already satisfied: idna<3,>=2.5 in /usr/local/lib/python3.7/dist-packages (from requests>=2.10.0->newspaper3k) (2.10)\n",
            "Requirement already satisfied: certifi>=2017.4.17 in /usr/local/lib/python3.7/dist-packages (from requests>=2.10.0->newspaper3k) (2021.10.8)\n",
            "Requirement already satisfied: urllib3!=1.25.0,!=1.25.1,<1.26,>=1.21.1 in /usr/local/lib/python3.7/dist-packages (from requests>=2.10.0->newspaper3k) (1.24.3)\n",
            "Requirement already satisfied: chardet<4,>=3.0.2 in /usr/local/lib/python3.7/dist-packages (from requests>=2.10.0->newspaper3k) (3.0.4)\n",
            "Requirement already satisfied: filelock>=3.0.8 in /usr/local/lib/python3.7/dist-packages (from tldextract>=2.0.1->newspaper3k) (3.3.2)\n",
            "Collecting requests-file>=1.4\n",
            "  Downloading requests_file-1.5.1-py2.py3-none-any.whl (3.7 kB)\n",
            "Building wheels for collected packages: tinysegmenter, feedfinder2, jieba3k, sgmllib3k\n",
            "  Building wheel for tinysegmenter (setup.py) ... \u001b[?25l\u001b[?25hdone\n",
            "  Created wheel for tinysegmenter: filename=tinysegmenter-0.3-py3-none-any.whl size=13552 sha256=109db88ecd21e34873c74bc9bfbd9fd8a0cb108e0b7104f7fc78b2c78f52cde2\n",
            "  Stored in directory: /root/.cache/pip/wheels/df/67/41/faca10fa501ca010be41b49d40360c2959e1c4f09bcbfa37fa\n",
            "  Building wheel for feedfinder2 (setup.py) ... \u001b[?25l\u001b[?25hdone\n",
            "  Created wheel for feedfinder2: filename=feedfinder2-0.0.4-py3-none-any.whl size=3356 sha256=9bc4934699b3fd89acebf2fb4a858ad16562633c87cc60926b14f5e5ca937655\n",
            "  Stored in directory: /root/.cache/pip/wheels/7f/d4/8f/6e2ca54744c9d7292d88ddb8d42876bcdab5e6d84a21c10346\n",
            "  Building wheel for jieba3k (setup.py) ... \u001b[?25l\u001b[?25hdone\n",
            "  Created wheel for jieba3k: filename=jieba3k-0.35.1-py3-none-any.whl size=7398405 sha256=6e5d9c1cf3317a18d43e1c22f539418aa0846485331c1e1eac7b9e1f69a65abc\n",
            "  Stored in directory: /root/.cache/pip/wheels/4c/91/46/3c208287b726df325a5979574324878b679116e4baae1af3c3\n",
            "  Building wheel for sgmllib3k (setup.py) ... \u001b[?25l\u001b[?25hdone\n",
            "  Created wheel for sgmllib3k: filename=sgmllib3k-1.0.0-py3-none-any.whl size=6065 sha256=6c883b289c655075daad22d271d106fe4b226bc6bd60a26636ef25ace1181817\n",
            "  Stored in directory: /root/.cache/pip/wheels/73/ad/a4/0dff4a6ef231fc0dfa12ffbac2a36cebfdddfe059f50e019aa\n",
            "Successfully built tinysegmenter feedfinder2 jieba3k sgmllib3k\n",
            "Installing collected packages: sgmllib3k, requests-file, tldextract, tinysegmenter, jieba3k, feedparser, feedfinder2, cssselect, newspaper3k\n",
            "Successfully installed cssselect-1.1.0 feedfinder2-0.0.4 feedparser-6.0.8 jieba3k-0.35.1 newspaper3k-0.2.8 requests-file-1.5.1 sgmllib3k-1.0.0 tinysegmenter-0.3 tldextract-3.1.2\n"
          ]
        }
      ]
    },
    {
      "cell_type": "markdown",
      "metadata": {
        "id": "gU1QI-_j0C0b"
      },
      "source": [
        "## Importations"
      ]
    },
    {
      "cell_type": "code",
      "metadata": {
        "id": "ftI5QiotsyAp",
        "colab": {
          "base_uri": "https://localhost:8080/"
        },
        "outputId": "ce23fb8e-b8c4-4c74-aa20-7ea0cd4b18e0"
      },
      "source": [
        "import pandas as pd\n",
        "from tqdm import tqdm\n",
        "from google.colab import drive\n",
        "import bz2\n",
        "import json\n",
        "import pickle as pkl\n",
        "import matplotlib.pyplot as plt\n",
        "import numpy as np\n",
        "from sklearn.model_selection import train_test_split\n",
        "import nltk\n",
        "nltk.download('punkt') # needed for Article\n",
        "from newspaper import Article"
      ],
      "execution_count": 5,
      "outputs": [
        {
          "output_type": "stream",
          "name": "stdout",
          "text": [
            "[nltk_data] Downloading package punkt to /root/nltk_data...\n",
            "[nltk_data]   Package punkt is already up-to-date!\n"
          ]
        }
      ]
    },
    {
      "cell_type": "markdown",
      "metadata": {
        "id": "zFl5VogPMCrm"
      },
      "source": [
        "The data are too big to have them locally. We thus use google drive to manipulate our data."
      ]
    },
    {
      "cell_type": "code",
      "metadata": {
        "id": "uTPM00mBs03w",
        "colab": {
          "base_uri": "https://localhost:8080/"
        },
        "outputId": "57629adb-4834-44ec-89b6-a0d76a0a1ef8"
      },
      "source": [
        "drive.mount('/content/drive')"
      ],
      "execution_count": null,
      "outputs": [
        {
          "output_type": "stream",
          "name": "stdout",
          "text": [
            "Drive already mounted at /content/drive; to attempt to forcibly remount, call drive.mount(\"/content/drive\", force_remount=True).\n"
          ]
        }
      ]
    },
    {
      "cell_type": "markdown",
      "metadata": {
        "id": "PHljmaFv0LLE"
      },
      "source": [
        "## Speaker_attribute Dataset\n"
      ]
    },
    {
      "cell_type": "markdown",
      "metadata": {
        "id": "f1aZQPt2MiL9"
      },
      "source": [
        "We first get the parquet file used to describe our data. The table contains the name of a speaker with his aliases, his gender, birth date, occupation, religion, ethnic group, politic orientation, party academical degree and his nationality. \n",
        "The link to our dataset will be represented by the column id. This column contains the wikidata identifier of our speaker."
      ]
    },
    {
      "cell_type": "code",
      "metadata": {
        "id": "vgCj5V0IkVjt"
      },
      "source": [
        "path_parquet = '/content/drive/MyDrive/ADA/project/Project datasets/speaker_attributes.parquet'\n",
        "parquet = pd.read_parquet(path_parquet)"
      ],
      "execution_count": null,
      "outputs": []
    },
    {
      "cell_type": "code",
      "metadata": {
        "id": "CtMpGQuJYs1C"
      },
      "source": [
        "# we only keep the features that are of interest for us\n",
        "parquet = parquet[['date_of_birth', 'gender', 'occupation', 'id', 'label']]"
      ],
      "execution_count": null,
      "outputs": []
    },
    {
      "cell_type": "markdown",
      "metadata": {
        "id": "qETunVshNwdV"
      },
      "source": [
        "Here is what our dataset looks like:"
      ]
    },
    {
      "cell_type": "code",
      "metadata": {
        "id": "dXi22jF2Nvtv",
        "colab": {
          "base_uri": "https://localhost:8080/",
          "height": 272
        },
        "outputId": "9b48c3e0-f6df-4a6d-91de-87847c4de3b8"
      },
      "source": [
        "parquet.sample(5)"
      ],
      "execution_count": null,
      "outputs": [
        {
          "output_type": "execute_result",
          "data": {
            "text/html": [
              "<div>\n",
              "<style scoped>\n",
              "    .dataframe tbody tr th:only-of-type {\n",
              "        vertical-align: middle;\n",
              "    }\n",
              "\n",
              "    .dataframe tbody tr th {\n",
              "        vertical-align: top;\n",
              "    }\n",
              "\n",
              "    .dataframe thead th {\n",
              "        text-align: right;\n",
              "    }\n",
              "</style>\n",
              "<table border=\"1\" class=\"dataframe\">\n",
              "  <thead>\n",
              "    <tr style=\"text-align: right;\">\n",
              "      <th></th>\n",
              "      <th>date_of_birth</th>\n",
              "      <th>gender</th>\n",
              "      <th>occupation</th>\n",
              "      <th>id</th>\n",
              "      <th>label</th>\n",
              "    </tr>\n",
              "  </thead>\n",
              "  <tbody>\n",
              "    <tr>\n",
              "      <th>193529</th>\n",
              "      <td>[+1963-11-07T00:00:00Z]</td>\n",
              "      <td>[Q6581097]</td>\n",
              "      <td>[Q177220]</td>\n",
              "      <td>Q7206805</td>\n",
              "      <td>Joey Tang Kin Ming</td>\n",
              "    </tr>\n",
              "    <tr>\n",
              "      <th>1309439</th>\n",
              "      <td>[+1956-12-12T00:00:00Z]</td>\n",
              "      <td>[Q6581072]</td>\n",
              "      <td>[Q1028181]</td>\n",
              "      <td>Q6296828</td>\n",
              "      <td>Jovita Laurušaitė</td>\n",
              "    </tr>\n",
              "    <tr>\n",
              "      <th>8941316</th>\n",
              "      <td>[+2001-03-20T00:00:00Z]</td>\n",
              "      <td>[Q6581097]</td>\n",
              "      <td>[Q937857]</td>\n",
              "      <td>Q98887333</td>\n",
              "      <td>Abduvohid Nematov</td>\n",
              "    </tr>\n",
              "    <tr>\n",
              "      <th>2125914</th>\n",
              "      <td>None</td>\n",
              "      <td>[Q6581072]</td>\n",
              "      <td>[Q3391743]</td>\n",
              "      <td>Q96996016</td>\n",
              "      <td>Catherine Azarkadon</td>\n",
              "    </tr>\n",
              "    <tr>\n",
              "      <th>6730964</th>\n",
              "      <td>None</td>\n",
              "      <td>None</td>\n",
              "      <td>None</td>\n",
              "      <td>Q102303854</td>\n",
              "      <td>Tore Dalenius</td>\n",
              "    </tr>\n",
              "  </tbody>\n",
              "</table>\n",
              "</div>"
            ],
            "text/plain": [
              "                   date_of_birth      gender  ...          id                label\n",
              "193529   [+1963-11-07T00:00:00Z]  [Q6581097]  ...    Q7206805   Joey Tang Kin Ming\n",
              "1309439  [+1956-12-12T00:00:00Z]  [Q6581072]  ...    Q6296828    Jovita Laurušaitė\n",
              "8941316  [+2001-03-20T00:00:00Z]  [Q6581097]  ...   Q98887333    Abduvohid Nematov\n",
              "2125914                     None  [Q6581072]  ...   Q96996016  Catherine Azarkadon\n",
              "6730964                     None        None  ...  Q102303854        Tore Dalenius\n",
              "\n",
              "[5 rows x 5 columns]"
            ]
          },
          "metadata": {},
          "execution_count": 7
        }
      ]
    },
    {
      "cell_type": "markdown",
      "metadata": {
        "id": "lHCRBE8AMnWW"
      },
      "source": [
        "Then we process it in order to have the interesting data we want. We only keep the gender, the occupation, the id, the name of the speaker and the date of birth colomns and we check if all these lines are full."
      ]
    },
    {
      "cell_type": "code",
      "metadata": {
        "id": "W4AGy8xLlEeN"
      },
      "source": [
        "# Process parquet\n",
        "nb_data_before = len(parquet)\n",
        "\n",
        "# Remove rows with gender = None\n",
        "parquet = parquet[~(parquet.gender.isnull())]\n",
        "# Keep unique gender\n",
        "parquet = parquet[parquet.gender.apply(lambda x: len(x)==1)]\n",
        "nb_diff_data_gender = nb_data_before-len(parquet)\n",
        "\n",
        "nb_data = len(parquet)\n",
        "# Remove rows with occupation = None\n",
        "parquet = parquet[~(parquet.occupation.isnull())]\n",
        "nb_diff_data_occupation = nb_data-len(parquet)\n",
        "\n",
        "nb_data = len(parquet)\n",
        "# Remove rows with date_of_birth = None\n",
        "parquet = parquet[~(parquet.date_of_birth.isnull())]\n",
        "# Keep only unique date of birth\n",
        "parquet = parquet[parquet.date_of_birth.apply(lambda x: len(x)==1)]\n",
        "nb_diff_data_date_of_birth = nb_data-len(parquet)\n",
        "# Keep only the year of birth the month and day are not relevant in terms of age\n",
        "parquet.date_of_birth = parquet.date_of_birth.apply(lambda x : x[0][0:5])\n",
        "\n",
        "\n",
        "# remove rows with label = None\n",
        "parquet = parquet[~(parquet.label.isnull())]\n",
        "\n",
        "#remove rows with id = None\n",
        "parquet=parquet[~(parquet.id.isnull())]"
      ],
      "execution_count": null,
      "outputs": []
    },
    {
      "cell_type": "markdown",
      "metadata": {
        "id": "y9mCDTVcNcHF"
      },
      "source": [
        "Here is what our data looks like now."
      ]
    },
    {
      "cell_type": "code",
      "metadata": {
        "id": "4RMvrLW4lOaN",
        "colab": {
          "base_uri": "https://localhost:8080/",
          "height": 221
        },
        "outputId": "51522dc3-5322-4cf3-92a9-7772422a8533"
      },
      "source": [
        "parquet.sample(5)"
      ],
      "execution_count": null,
      "outputs": [
        {
          "output_type": "execute_result",
          "data": {
            "text/html": [
              "<div>\n",
              "<style scoped>\n",
              "    .dataframe tbody tr th:only-of-type {\n",
              "        vertical-align: middle;\n",
              "    }\n",
              "\n",
              "    .dataframe tbody tr th {\n",
              "        vertical-align: top;\n",
              "    }\n",
              "\n",
              "    .dataframe thead th {\n",
              "        text-align: right;\n",
              "    }\n",
              "</style>\n",
              "<table border=\"1\" class=\"dataframe\">\n",
              "  <thead>\n",
              "    <tr style=\"text-align: right;\">\n",
              "      <th></th>\n",
              "      <th>date_of_birth</th>\n",
              "      <th>gender</th>\n",
              "      <th>occupation</th>\n",
              "      <th>id</th>\n",
              "      <th>label</th>\n",
              "    </tr>\n",
              "  </thead>\n",
              "  <tbody>\n",
              "    <tr>\n",
              "      <th>4561525</th>\n",
              "      <td>+1988</td>\n",
              "      <td>[Q6581097]</td>\n",
              "      <td>[Q937857]</td>\n",
              "      <td>Q965729</td>\n",
              "      <td>Yosuke Saito</td>\n",
              "    </tr>\n",
              "    <tr>\n",
              "      <th>329999</th>\n",
              "      <td>+1975</td>\n",
              "      <td>[Q6581097]</td>\n",
              "      <td>[Q36180]</td>\n",
              "      <td>Q18195266</td>\n",
              "      <td>Jan Becker</td>\n",
              "    </tr>\n",
              "    <tr>\n",
              "      <th>6337622</th>\n",
              "      <td>+2000</td>\n",
              "      <td>[Q6581097]</td>\n",
              "      <td>[Q937857]</td>\n",
              "      <td>Q69147159</td>\n",
              "      <td>Melih Ibrahimoglu</td>\n",
              "    </tr>\n",
              "    <tr>\n",
              "      <th>133234</th>\n",
              "      <td>+1866</td>\n",
              "      <td>[Q6581072]</td>\n",
              "      <td>[Q82955, Q7019111]</td>\n",
              "      <td>Q4959147</td>\n",
              "      <td>Gertrud af Klintberg</td>\n",
              "    </tr>\n",
              "    <tr>\n",
              "      <th>4718933</th>\n",
              "      <td>+1931</td>\n",
              "      <td>[Q6581097]</td>\n",
              "      <td>[Q11774891]</td>\n",
              "      <td>Q7152254</td>\n",
              "      <td>Paul Masnick</td>\n",
              "    </tr>\n",
              "  </tbody>\n",
              "</table>\n",
              "</div>"
            ],
            "text/plain": [
              "        date_of_birth      gender  ...         id                 label\n",
              "4561525         +1988  [Q6581097]  ...    Q965729          Yosuke Saito\n",
              "329999          +1975  [Q6581097]  ...  Q18195266            Jan Becker\n",
              "6337622         +2000  [Q6581097]  ...  Q69147159     Melih Ibrahimoglu\n",
              "133234          +1866  [Q6581072]  ...   Q4959147  Gertrud af Klintberg\n",
              "4718933         +1931  [Q6581097]  ...   Q7152254          Paul Masnick\n",
              "\n",
              "[5 rows x 5 columns]"
            ]
          },
          "metadata": {},
          "execution_count": 9
        }
      ]
    },
    {
      "cell_type": "markdown",
      "metadata": {
        "id": "WBWf4O0-OeWl"
      },
      "source": [
        "Here is a small pie graph to see how much data we erased."
      ]
    },
    {
      "cell_type": "code",
      "metadata": {
        "id": "xNlTf4mLOs6U",
        "colab": {
          "base_uri": "https://localhost:8080/",
          "height": 264
        },
        "outputId": "97e8ceb9-f7f6-4b01-f3d8-72a36bae9f6e"
      },
      "source": [
        "gender_proportion = nb_diff_data_gender*100.0/nb_data_before\n",
        "occupation_proportion = nb_diff_data_occupation*100.0/nb_data_before\n",
        "date_of_birth_proportion = nb_diff_data_date_of_birth*100.0/nb_data_before\n",
        "data_proportion = len(parquet)*100.0/nb_data_before\n",
        "\n",
        "y = np.array([gender_proportion, occupation_proportion, date_of_birth_proportion,data_proportion])\n",
        "labels = [\"Genre\", \"Occupation\", \"Date of birth\", \"Data kept\"]\n",
        "\n",
        "plt.title('Proportion of the losses of the data')\n",
        "plt.pie(y, labels = labels, startangle = 90, autopct='%1.1f%%')\n",
        "plt.show() "
      ],
      "execution_count": null,
      "outputs": [
        {
          "output_type": "display_data",
          "data": {
            "image/png": "[encoded data removed]",
            "text/plain": [
              "<Figure size 432x288 with 1 Axes>"
            ]
          },
          "metadata": {}
        }
      ]
    },
    {
      "cell_type": "markdown",
      "metadata": {
        "id": "aOsYqAHIIV30"
      },
      "source": [
        "Here, we convert the columns _gender_ and _occupation_ into what their Qcode mean. To do so, we use the provided csv file wikidata_labels_descriptions_quotebank.csv.bz2 and a dictionnary containing textual descriptions of ids that are not in the provided file because they correspond to redirections."
      ]
    },
    {
      "cell_type": "code",
      "metadata": {
        "id": "FqL8B0u8blcI"
      },
      "source": [
        "path_label_descriptions = '/content/drive/MyDrive/ADA/project/Project datasets/wikidata_labels_descriptions_quotebank.csv.bz2'\n",
        "string_data = pd.read_csv(path_label_descriptions, compression='bz2', index_col='QID')\n",
        "quids_redir = {'Q3268166': 'clinical psychologist', 'Q12014399': 'catholic priest', 'Q11819457': 'visual artist',\n",
        "               'Q12334852': 'sailor', 'Q3186984': 'journalist', 'Q15991263': 'auctioneer', 'Q12455619': 'social worker',\n",
        "               'Q1248362': 'director of a creative work', 'Q13365117': 'handball player', 'Q21550646': 'glass painter',\n",
        "               'Q6363085': 'advocate', 'Q16287483': 'opinion journalist', 'Q13424794': 'computational scientist',\n",
        "               'Q11815360': 'pediatrician', 'Q5568256': 'forester', 'Q6859927': 'lady-in-waiting', 'Q15145782': 'transgender female',\n",
        "               'Q15145783': 'transgender male'}"
      ],
      "execution_count": null,
      "outputs": []
    },
    {
      "cell_type": "code",
      "metadata": {
        "id": "JC6cfRJJYhIN"
      },
      "source": [
        "# convert wiki ids to strings ~28min\n",
        "def convert_id_str(x):\n",
        "  if (np.array(x) != None).all(): # x is a np.array by default but if None then just None so cast to array otherwise error on .all()\n",
        "    strings = []\n",
        "    for id in x:\n",
        "      # id needs to be in string_data index otherwise error     \n",
        "      try:\n",
        "        strings.append(string_data.loc[id]['Label'])\n",
        "      except KeyError:\n",
        "        #print('Id: {} was not found in label_descriptions'.format(id))\n",
        "        if id in quids_redir.keys():\n",
        "          redirect = quids_redir[id]\n",
        "          strings.append(redirect)\n",
        "    return strings\n",
        "  else:\n",
        "    return None\n",
        "\n",
        "parquet[['gender', 'occupation']] = parquet[['gender', 'occupation']].applymap(convert_id_str)\n",
        "\n",
        "parquet.to_pickle('/content/drive/MyDrive/ADA/project/parquet_proc_str.pkl') "
      ],
      "execution_count": null,
      "outputs": []
    },
    {
      "cell_type": "code",
      "metadata": {
        "id": "LJB2tnFxo-s_"
      },
      "source": [
        "parquet = pd.read_pickle('/content/drive/MyDrive/ADA/project/parquet_proc_str.pkl')"
      ],
      "execution_count": null,
      "outputs": []
    },
    {
      "cell_type": "markdown",
      "metadata": {
        "id": "VSCBgS9HWY1V"
      },
      "source": [
        "Here is how the speaker attributes dataset finally looks like."
      ]
    },
    {
      "cell_type": "code",
      "metadata": {
        "id": "Jyj7cueWWeRF",
        "colab": {
          "base_uri": "https://localhost:8080/",
          "height": 204
        },
        "outputId": "9f56eeb1-c5ff-47b1-9965-568a387e6287"
      },
      "source": [
        "parquet.sample(5)"
      ],
      "execution_count": null,
      "outputs": [
        {
          "output_type": "execute_result",
          "data": {
            "text/html": [
              "<div>\n",
              "<style scoped>\n",
              "    .dataframe tbody tr th:only-of-type {\n",
              "        vertical-align: middle;\n",
              "    }\n",
              "\n",
              "    .dataframe tbody tr th {\n",
              "        vertical-align: top;\n",
              "    }\n",
              "\n",
              "    .dataframe thead th {\n",
              "        text-align: right;\n",
              "    }\n",
              "</style>\n",
              "<table border=\"1\" class=\"dataframe\">\n",
              "  <thead>\n",
              "    <tr style=\"text-align: right;\">\n",
              "      <th></th>\n",
              "      <th>date_of_birth</th>\n",
              "      <th>gender</th>\n",
              "      <th>occupation</th>\n",
              "      <th>id</th>\n",
              "      <th>label</th>\n",
              "    </tr>\n",
              "  </thead>\n",
              "  <tbody>\n",
              "    <tr>\n",
              "      <th>6284762</th>\n",
              "      <td>+1864</td>\n",
              "      <td>[female]</td>\n",
              "      <td>[writer]</td>\n",
              "      <td>Q63107159</td>\n",
              "      <td>Mara Antelling</td>\n",
              "    </tr>\n",
              "    <tr>\n",
              "      <th>81607</th>\n",
              "      <td>+1858</td>\n",
              "      <td>[male]</td>\n",
              "      <td>[poet, composer, stage actor]</td>\n",
              "      <td>Q2894407</td>\n",
              "      <td>Sigmund Mogulesko</td>\n",
              "    </tr>\n",
              "    <tr>\n",
              "      <th>1308888</th>\n",
              "      <td>+1923</td>\n",
              "      <td>[male]</td>\n",
              "      <td>[cricketer]</td>\n",
              "      <td>Q6281796</td>\n",
              "      <td>Joseph Burke</td>\n",
              "    </tr>\n",
              "    <tr>\n",
              "      <th>5763221</th>\n",
              "      <td>+1978</td>\n",
              "      <td>[male]</td>\n",
              "      <td>[politician]</td>\n",
              "      <td>Q3619095</td>\n",
              "      <td>Antonino Minardo</td>\n",
              "    </tr>\n",
              "    <tr>\n",
              "      <th>136983</th>\n",
              "      <td>+1893</td>\n",
              "      <td>[male]</td>\n",
              "      <td>[baseball player]</td>\n",
              "      <td>Q5093682</td>\n",
              "      <td>Chester Pittser</td>\n",
              "    </tr>\n",
              "  </tbody>\n",
              "</table>\n",
              "</div>"
            ],
            "text/plain": [
              "        date_of_birth    gender  ...         id              label\n",
              "6284762         +1864  [female]  ...  Q63107159     Mara Antelling\n",
              "81607           +1858    [male]  ...   Q2894407  Sigmund Mogulesko\n",
              "1308888         +1923    [male]  ...   Q6281796       Joseph Burke\n",
              "5763221         +1978    [male]  ...   Q3619095   Antonino Minardo\n",
              "136983          +1893    [male]  ...   Q5093682    Chester Pittser\n",
              "\n",
              "[5 rows x 5 columns]"
            ]
          },
          "metadata": {},
          "execution_count": 7
        }
      ]
    },
    {
      "cell_type": "markdown",
      "metadata": {
        "id": "eeKJ5dSIFwPu"
      },
      "source": [
        "## Quotebank Dataset\n"
      ]
    },
    {
      "cell_type": "markdown",
      "metadata": {
        "id": "Wp1puwZFYNdl"
      },
      "source": [
        "First, we define our processing functions : process_probas and process_qchunk. \n",
        "\n",
        "The first one do is used to check if the probability of a speaker for a given quote is more than 70%. We chose that threshold because we want to avoid probabilities close to 0.5, because the odd to make a mistake is 1:1. We want to make sure that our speaker probability is not random. \n",
        "We use the second one to clean the data and form our final dataset."
      ]
    },
    {
      "cell_type": "code",
      "metadata": {
        "id": "xN9NUBIS-FUt"
      },
      "source": [
        "# Process probas attribute\n",
        "def process_probas(speakers_probas): # In case the most probable speaker isn't the first one\n",
        "  # Flatten probas into a single list\n",
        "  flat = [item for sublist in speakers_probas for item in sublist]\n",
        "  # Extract probs\n",
        "  probas = [float(p) for i,p in enumerate(flat) if i%2]\n",
        "  return (max(probas) > 0.7) # Return 1 if the max proba > 0.7\n",
        "\n",
        "\n",
        "\n",
        "# Process samples by chunks\n",
        "def process_qchunk(chunk, path): # Quotebank chunk\n",
        "  rem = []\n",
        "\n",
        "  # Drop rows where speaker==None\n",
        "  initial_n = len(chunk)\n",
        "  chunk = chunk[chunk.speaker != 'None']\n",
        "  rem.append(initial_n-len(chunk)) \n",
        "\n",
        "  # Keep only quotes with very probable speaker\n",
        "  initial_n = len(chunk)\n",
        "  chunk = chunk[chunk.probas.apply(process_probas)] \n",
        "  rem.append(initial_n-len(chunk))\n",
        "\n",
        "  # Keep only numOcurrences > 0 \n",
        "  initial_n = len(chunk)\n",
        "  chunk = chunk[chunk.numOccurrences > 0]\n",
        "  rem.append(initial_n-len(chunk))\n",
        "\n",
        "  # Keep only qid size=1\n",
        "  initial_n = len(chunk)\n",
        "  chunk = chunk[chunk.qids.apply(lambda x: len(x)==1)]\n",
        "  rem.append(initial_n-len(chunk))\n",
        "\n",
        "  # Save to pickle\n",
        "  with open(path, 'ab') as dest: # use pkl.load(dest) to recover **chunks**\n",
        "    pkl.dump(chunk, dest)\n",
        "\n",
        "  return rem"
      ],
      "execution_count": null,
      "outputs": []
    },
    {
      "cell_type": "markdown",
      "metadata": {
        "id": "xpPSBw_5Ffqw"
      },
      "source": [
        "Here is where we extract the Quotebank dataset and use the functions defined above."
      ]
    },
    {
      "cell_type": "code",
      "metadata": {
        "id": "RC9WGNpL-GC1"
      },
      "source": [
        "# Processing by chunks\n",
        "years = ['2020', '2019', '2018', '2017', '2016', '2015']\n",
        "\n",
        "n_chunks = [0]*len(years)    # needed for read back\n",
        "processing_steps = 4         # known speaker, very probable speaker, numOcurrences > 0, one single qid,\n",
        "removed = np.zeros((len(years),processing_steps))\n",
        "initial_n = [0]*len(years)\n",
        "\n",
        "for i, year in zip(tqdm(range(len(years))), years):\n",
        "\n",
        "  path_to_sfile = '/content/drive/MyDrive/ADA/Quotebank/quotes-'+year+'.json.bz2' \n",
        "  path_to_dfile = '/content/drive/MyDrive/ADA/quotes-'+year+'_processed.pkl' \n",
        "\n",
        "  df_reader = pd.read_json(path_to_sfile, lines=True, compression='bz2', chunksize=100000)\n",
        "  for chunk in df_reader : \n",
        "    initial_n[i] += len(chunk)\n",
        "    removed[i,:] += process_qchunk(chunk, path_to_dfile)\n",
        "    n_chunks[i] += 1\n",
        "  print(n_chunks[i])\n",
        "  print('Year: {}  Inital number of samples: {}  Removed: {}  Total: {} '.format(year, initial_n[i], removed[i,:],\n",
        "                                                                                 removed[i,:].sum()))"
      ],
      "execution_count": null,
      "outputs": []
    },
    {
      "cell_type": "markdown",
      "metadata": {
        "id": "YIynx5lAdxPw"
      },
      "source": [
        "The resulting prints don't appear here because to gain time we processed different years on different computers in parallel, but we used the same code with the years list containing a single year so it's basically the same."
      ]
    },
    {
      "cell_type": "markdown",
      "metadata": {
        "id": "hwqDvFNeR77n"
      },
      "source": [
        "Here is a visualisation of the process of our data."
      ]
    },
    {
      "cell_type": "code",
      "metadata": {
        "colab": {
          "base_uri": "https://localhost:8080/",
          "height": 513
        },
        "id": "TCXojUFsRjVK",
        "outputId": "b795156e-706d-452b-a6c4-8b20ff8388fd"
      },
      "source": [
        "init_nb_sample = [5244449, 21763302, 27228451, 26611588, 13862129, 20874338]\n",
        "nb_sample_none_speaker = [3443605, 14183294, 17670419, 17333298, 11035434, 13858038]\n",
        "nb_sample_prob_speaker = [2419648, 9875076, 12185447, 11948347, 8208739, 9663107]\n",
        "nb_sample_qid_size = [1743841, 7076288, 8623990, 8329693, 6286262, 8781475]\n",
        "years = ['2020', '2019', '2018', '2017', '2016', '2015']\n",
        "\n",
        "ind = np.arange(len(init_nb_sample))\n",
        "\n",
        "fig = plt.figure(figsize=[10,7])\n",
        "ax = fig.add_subplot(111)\n",
        "ax.bar(x=ind, height=init_nb_sample, width=0.35, align='center', label = 'Sample loss due to in speaker')\n",
        "ax.bar(x=ind, height=nb_sample_none_speaker, width=0.35, align='center', label = 'Sample loss due to the small probability of the speaker')\n",
        "ax.bar(x=ind, height=nb_sample_prob_speaker, width=0.35, align='center', label = 'Sample loss due to lots of Qids size')\n",
        "ax.bar(x=ind, height=nb_sample_qid_size, width=0.35, align='center', label = 'Dataset final')\n",
        "\n",
        "\n",
        "plt.xticks(ind, years)\n",
        "plt.title('Number of data lost per year')\n",
        "plt.legend()\n",
        "plt.xlabel('Years')\n",
        "plt.ylabel('nb_sample')\n",
        "plt.tight_layout()\n",
        "plt.show()"
      ],
      "execution_count": 3,
      "outputs": [
        {
          "output_type": "display_data",
          "data": {
            "image/png": "[encoded data removed]",
            "text/plain": [
              "<Figure size 720x504 with 1 Axes>"
            ]
          },
          "metadata": {
            "needs_background": "light"
          }
        }
      ]
    },
    {
      "cell_type": "markdown",
      "metadata": {
        "id": "byZhfOlSSCzP"
      },
      "source": [
        "We can see that 2020 has much less quotes than the other years. Moreover, we see that we keep a third of our original data for our project."
      ]
    },
    {
      "cell_type": "markdown",
      "metadata": {
        "id": "8VlQ4PTM559L"
      },
      "source": [
        "We then extract the name of the author of the articles using the urls and determine his/her gender.\n"
      ]
    },
    {
      "cell_type": "markdown",
      "metadata": {
        "id": "hnRd8c266NGN"
      },
      "source": [
        "First we need to train a naive Bayes classifier from NLTK to obtain the gender of the author using the name_gender_dataset.csv made available by the Center for Machine Learning and Intelligent Systems of the University of California, Irvine."
      ]
    },
    {
      "cell_type": "code",
      "metadata": {
        "id": "gv7aQqr_Jb6r",
        "colab": {
          "base_uri": "https://localhost:8080/",
          "height": 419
        },
        "outputId": "750fc7ee-85a6-4747-d3ea-e4932e031cf8"
      },
      "source": [
        "# importing name-gender dataset\n",
        "df_names = pd.read_csv('/content/drive/MyDrive/ADA/project/name_gender_dataset.csv')\n",
        "df_names = df_names[['Name', 'Gender']]\n",
        "df_names"
      ],
      "execution_count": null,
      "outputs": [
        {
          "output_type": "execute_result",
          "data": {
            "text/html": [
              "<div>\n",
              "<style scoped>\n",
              "    .dataframe tbody tr th:only-of-type {\n",
              "        vertical-align: middle;\n",
              "    }\n",
              "\n",
              "    .dataframe tbody tr th {\n",
              "        vertical-align: top;\n",
              "    }\n",
              "\n",
              "    .dataframe thead th {\n",
              "        text-align: right;\n",
              "    }\n",
              "</style>\n",
              "<table border=\"1\" class=\"dataframe\">\n",
              "  <thead>\n",
              "    <tr style=\"text-align: right;\">\n",
              "      <th></th>\n",
              "      <th>Name</th>\n",
              "      <th>Gender</th>\n",
              "    </tr>\n",
              "  </thead>\n",
              "  <tbody>\n",
              "    <tr>\n",
              "      <th>0</th>\n",
              "      <td>James</td>\n",
              "      <td>M</td>\n",
              "    </tr>\n",
              "    <tr>\n",
              "      <th>1</th>\n",
              "      <td>John</td>\n",
              "      <td>M</td>\n",
              "    </tr>\n",
              "    <tr>\n",
              "      <th>2</th>\n",
              "      <td>Robert</td>\n",
              "      <td>M</td>\n",
              "    </tr>\n",
              "    <tr>\n",
              "      <th>3</th>\n",
              "      <td>Michael</td>\n",
              "      <td>M</td>\n",
              "    </tr>\n",
              "    <tr>\n",
              "      <th>4</th>\n",
              "      <td>William</td>\n",
              "      <td>M</td>\n",
              "    </tr>\n",
              "    <tr>\n",
              "      <th>...</th>\n",
              "      <td>...</td>\n",
              "      <td>...</td>\n",
              "    </tr>\n",
              "    <tr>\n",
              "      <th>147264</th>\n",
              "      <td>Zylenn</td>\n",
              "      <td>M</td>\n",
              "    </tr>\n",
              "    <tr>\n",
              "      <th>147265</th>\n",
              "      <td>Zymeon</td>\n",
              "      <td>M</td>\n",
              "    </tr>\n",
              "    <tr>\n",
              "      <th>147266</th>\n",
              "      <td>Zyndel</td>\n",
              "      <td>M</td>\n",
              "    </tr>\n",
              "    <tr>\n",
              "      <th>147267</th>\n",
              "      <td>Zyshan</td>\n",
              "      <td>M</td>\n",
              "    </tr>\n",
              "    <tr>\n",
              "      <th>147268</th>\n",
              "      <td>Zyton</td>\n",
              "      <td>M</td>\n",
              "    </tr>\n",
              "  </tbody>\n",
              "</table>\n",
              "<p>147269 rows × 2 columns</p>\n",
              "</div>"
            ],
            "text/plain": [
              "           Name Gender\n",
              "0         James      M\n",
              "1          John      M\n",
              "2        Robert      M\n",
              "3       Michael      M\n",
              "4       William      M\n",
              "...         ...    ...\n",
              "147264   Zylenn      M\n",
              "147265   Zymeon      M\n",
              "147266   Zyndel      M\n",
              "147267   Zyshan      M\n",
              "147268    Zyton      M\n",
              "\n",
              "[147269 rows x 2 columns]"
            ]
          },
          "metadata": {},
          "execution_count": 7
        }
      ]
    },
    {
      "cell_type": "code",
      "metadata": {
        "id": "bHnWDm56J5CX",
        "colab": {
          "base_uri": "https://localhost:8080/"
        },
        "outputId": "1751cf89-c685-4100-d47f-1ec2c9bb6421"
      },
      "source": [
        "# checking dataset\n",
        "# no None\n",
        "print('Number of none present in names: {}  Number of none present in gender: {}'.format(\n",
        "      df_names.Name.isnull().sum(), df_names.Gender.isnull().sum()))\n",
        "# balanced\n",
        "print(('Number of male names: {}  Number of female names: {}'.format(\n",
        "      df_names.Gender=='M').sum(), (df_names.Gender=='F').sum()))\n",
        "# only males and females\n",
        "print('Only male/female genders ? :'.format(((df_names.Gender=='M').sum()+(df_names.Gender=='F').sum())==len(df_names)))"
      ],
      "execution_count": null,
      "outputs": [
        {
          "output_type": "stream",
          "name": "stdout",
          "text": [
            "0 0\n",
            "57520 89749\n",
            "True\n"
          ]
        }
      ]
    },
    {
      "cell_type": "code",
      "metadata": {
        "id": "OFn-q8oKJ_aW"
      },
      "source": [
        "# feature extractor\n",
        "def gender_features(word):\n",
        "  return {'last_letter':word[-1],\n",
        "          'last_2letters':word[-2:]}"
      ],
      "execution_count": null,
      "outputs": []
    },
    {
      "cell_type": "code",
      "metadata": {
        "id": "jI0kIVZuKE5p",
        "colab": {
          "base_uri": "https://localhost:8080/"
        },
        "outputId": "18708c27-f780-4f6b-92c1-05ca7276f951"
      },
      "source": [
        "# preparing a list of examples and corresponding class labels.\n",
        "labeled_names = [(name, gender) for (name, gender) in zip(df_names.Name, df_names.Gender)]\n",
        "\n",
        "# we use the feature extractor to process the names data.\n",
        "featuresets = [(gender_features(n), gender) for (n, gender) in labeled_names]\n",
        "\n",
        "# Divide the resulting list of feature\n",
        "# sets into a training set and a test set.\n",
        "train_set, test_set = train_test_split(featuresets, test_size=0.25)\n",
        "\n",
        "clf = nltk.NaiveBayesClassifier.train(train_set)\n",
        "\n",
        "print(nltk.classify.accuracy(clf, train_set))\n",
        "print(nltk.classify.accuracy(clf, test_set))"
      ],
      "execution_count": null,
      "outputs": [
        {
          "output_type": "stream",
          "name": "stdout",
          "text": [
            "0.7635874731781513\n",
            "0.7603889401922972\n"
          ]
        }
      ]
    },
    {
      "cell_type": "markdown",
      "metadata": {
        "id": "tFIVAjImgDnR"
      },
      "source": [
        "To extract the name of the author of the article containing the quote, we use the newspaper3k library which provides an implementation of the author extractor that can be used easily. The gender of the authors will then be determined by the classifier previously trained."
      ]
    },
    {
      "cell_type": "code",
      "metadata": {
        "id": "J6TULex9FfWL"
      },
      "source": [
        "# Extracts one author name (if found) for each url (if valid)                   11min for 188 quote samples\n",
        "def extract_authors(urls): # Using newspaper3k, try & except because link may be not valid (404 etc.)\n",
        "  names = []               # We could use status code of request otherwise \n",
        "  for link in urls:\n",
        "    article = Article(link)\n",
        "    try: \n",
        "      article.download()\n",
        "      article.parse()\n",
        "      article.nlp()\n",
        "    except:\n",
        "      names.append('Invalid link')\n",
        "    else:\n",
        "      authors = article.authors # could be empty (author not found or article restricted to members-only, ex: http://sunshinecoastdaily.com.au/news/incredible-upside-to-horn-vs-tszyu-bloody-sunday-d/3974224/)\n",
        "      if len(authors)==0:\n",
        "        names.append(None)\n",
        "      else:\n",
        "        names.append(authors[0]) # with [0], it doesn't handle the case when there are several authors  but avoids getting a lot of extra stuff that aren't names    \n",
        "  return names\n",
        "\n",
        "# determines the gender of the extracted names using the trained classifier\n",
        "def gender_from_name(names):\n",
        "  # names can contain None, invalid link or (complete) names\n",
        "  # classifier clf used as global because unable to pass it as argument when using .apply(func,args=(clf))\n",
        "  genders = []\n",
        "  for name in names:\n",
        "    if (name==None) or (name=='Invalid link'):\n",
        "      genders.append(None)\n",
        "    else:\n",
        "      sub = name.split(' ')\n",
        "      firstname = sub[0]\n",
        "      if len(firstname) > 1: # to safely extract features\n",
        "        genders.append(clf.classify(gender_features(firstname)))\n",
        "      else:\n",
        "        genders.append(None)\n",
        "  \n",
        "  return genders\n",
        "\n",
        "\n",
        "# Second major processing step where we merge the datasets and extract the \n",
        "# authors and their gender.\n",
        "def process_qchunk2(chunk, path, parquet):\n",
        "  # Merge with parquet\n",
        "  initial_n = len(chunk)\n",
        "  chunk.qids = chunk.qids.apply(lambda x: x[0]) # Extract qid string\n",
        "  # Keep the label of the parquet to uniform the names of the speaker\n",
        "  chunk = chunk.merge(parquet, left_on='qids', right_on='id').drop(columns=['speaker'])\n",
        "  \n",
        "  # extract authors \n",
        "  #chunk['authors'] = chunk.urls.apply(extract_authors) # need to find an alternative, this is way too slow\n",
        "  # extract author gender\n",
        "  #chunk['author_gender'] = chunk.authors.apply(gender_from_name)\n",
        "\n",
        "  chunk.gender = chunk.gender.apply(lambda x: x[0]) # Extract gender string\n",
        "  rem = initial_n-len(chunk)\n",
        "  \n",
        "  # Save to pickle\n",
        "  with open(path, 'ab') as dest: # use pkl.load(dest) to recover **chunks**\n",
        "    pkl.dump(chunk, dest)\n",
        "\n",
        "  return rem, chunk"
      ],
      "execution_count": null,
      "outputs": []
    },
    {
      "cell_type": "markdown",
      "metadata": {
        "id": "KP5qXNtNQTz6"
      },
      "source": [
        "Now that we have all the necessary functions to  do the merge and extract the author and determine his/her gender, we can proceed to the next processing step on the Quotebank dataset. Unfortunately we didn’t have time to completely run the second major processing step where we merge the parquet file with the quotebank dataset and extract the author and his/her gender. We only perform the merge. The main problem seems to be the extraction of the author of the article for each url contained in the quote samples, which takes too much time."
      ]
    },
    {
      "cell_type": "code",
      "metadata": {
        "id": "Dn7BlJUu-CqS",
        "colab": {
          "base_uri": "https://localhost:8080/",
          "height": 317
        },
        "outputId": "1300b169-aef7-45b2-b9e5-a59b8f4482ae"
      },
      "source": [
        "years = ['2020', '2019', '2018', '2017', '2016', '2015']\n",
        "n_chunks = [53, 218, 273, 267, 139, 209]\n",
        "M = [0]*len(years) \n",
        "F = [0]*len(years) \n",
        "removed = [0]*len(years)  # by merge\n",
        "initial_n = [0]*len(years)\n",
        "\n",
        "for i,year in enumerate(years):\n",
        "\n",
        "  path_to_sfile = '/content/drive/MyDrive/Results/quotes-'+year+'_processed.pkl' \n",
        "  path_to_dfile = '/content/tmp_dir/quotes-'+year+'_processed_merged.pkl' \n",
        "  \n",
        "  with open(path_to_sfile, 'rb') as f:\n",
        "    for chunk_idx in range(n_chunks[i]):\n",
        "      chunk = pkl.load(f)\n",
        "      initial_n[i] += len(chunk)\n",
        "      tmp_rem, chunk = process_qchunk2(chunk, path_to_dfile, parquet)\n",
        "      removed[i] += tmp_rem\n",
        "      F[i] += chunk['gender'].value_counts().sort_index()[0] # for initial analysis\n",
        "      M[i] += chunk['gender'].value_counts().sort_index()[1]\n",
        "  \n",
        "  print('Year: {}  Number of processed samples: {}  Number of samples removed by merge: {}'.format(\n",
        "        year, initial_n[i], removed[i]))"
      ],
      "execution_count": null,
      "outputs": [
        {
          "output_type": "stream",
          "name": "stdout",
          "text": [
            "Year: 2020  Number of processed samples: 1743841  Number of samples removed by merge: 232151\n",
            "Year: 2019  Number of processed samples: 7076288  Number of samples removed by merge: 947194\n",
            "Year: 2018  Number of processed samples: 8623990  Number of samples removed by merge: 1161092\n",
            "Year: 2017  Number of processed samples: 8329693  Number of samples removed by merge: 1115286\n",
            "Year: 2016  Number of processed samples: 4357542  Number of samples removed by merge: 577531\n"
          ]
        },
        {
          "output_type": "error",
          "ename": "EOFError",
          "evalue": "ignored",
          "traceback": [
            "\u001b[0;31m---------------------------------------------------------------------------\u001b[0m",
            "\u001b[0;31mEOFError\u001b[0m                                  Traceback (most recent call last)",
            "\u001b[0;32m<ipython-input-9-00ff0589e4c4>\u001b[0m in \u001b[0;36m<module>\u001b[0;34m()\u001b[0m\n\u001b[1;32m     13\u001b[0m   \u001b[0;32mwith\u001b[0m \u001b[0mopen\u001b[0m\u001b[0;34m(\u001b[0m\u001b[0mpath_to_sfile\u001b[0m\u001b[0;34m,\u001b[0m \u001b[0;34m'rb'\u001b[0m\u001b[0;34m)\u001b[0m \u001b[0;32mas\u001b[0m \u001b[0mf\u001b[0m\u001b[0;34m:\u001b[0m\u001b[0;34m\u001b[0m\u001b[0;34m\u001b[0m\u001b[0m\n\u001b[1;32m     14\u001b[0m     \u001b[0;32mfor\u001b[0m \u001b[0mchunk_idx\u001b[0m \u001b[0;32min\u001b[0m \u001b[0mrange\u001b[0m\u001b[0;34m(\u001b[0m\u001b[0mn_chunks\u001b[0m\u001b[0;34m[\u001b[0m\u001b[0mi\u001b[0m\u001b[0;34m]\u001b[0m\u001b[0;34m)\u001b[0m\u001b[0;34m:\u001b[0m\u001b[0;34m\u001b[0m\u001b[0;34m\u001b[0m\u001b[0m\n\u001b[0;32m---> 15\u001b[0;31m       \u001b[0mchunk\u001b[0m \u001b[0;34m=\u001b[0m \u001b[0mpkl\u001b[0m\u001b[0;34m.\u001b[0m\u001b[0mload\u001b[0m\u001b[0;34m(\u001b[0m\u001b[0mf\u001b[0m\u001b[0;34m)\u001b[0m\u001b[0;34m\u001b[0m\u001b[0;34m\u001b[0m\u001b[0m\n\u001b[0m\u001b[1;32m     16\u001b[0m       \u001b[0minitial_n\u001b[0m\u001b[0;34m[\u001b[0m\u001b[0mi\u001b[0m\u001b[0;34m]\u001b[0m \u001b[0;34m+=\u001b[0m \u001b[0mlen\u001b[0m\u001b[0;34m(\u001b[0m\u001b[0mchunk\u001b[0m\u001b[0;34m)\u001b[0m\u001b[0;34m\u001b[0m\u001b[0;34m\u001b[0m\u001b[0m\n\u001b[1;32m     17\u001b[0m       \u001b[0mtmp_rem\u001b[0m\u001b[0;34m,\u001b[0m \u001b[0mchunk\u001b[0m \u001b[0;34m=\u001b[0m \u001b[0mprocess_qchunk2\u001b[0m\u001b[0;34m(\u001b[0m\u001b[0mchunk\u001b[0m\u001b[0;34m,\u001b[0m \u001b[0mpath_to_dfile\u001b[0m\u001b[0;34m,\u001b[0m \u001b[0mparquet\u001b[0m\u001b[0;34m)\u001b[0m\u001b[0;34m\u001b[0m\u001b[0;34m\u001b[0m\u001b[0m\n",
            "\u001b[0;31mEOFError\u001b[0m: Ran out of input"
          ]
        }
      ]
    },
    {
      "cell_type": "code",
      "metadata": {
        "colab": {
          "base_uri": "https://localhost:8080/"
        },
        "id": "VbD0nRH1TsAz",
        "outputId": "cd705c47-bd38-4b2b-acdd-55ab93508b24"
      },
      "source": [
        "chunk_idx"
      ],
      "execution_count": null,
      "outputs": [
        {
          "output_type": "execute_result",
          "data": {
            "text/plain": [
              "208"
            ]
          },
          "metadata": {},
          "execution_count": 12
        }
      ]
    },
    {
      "cell_type": "markdown",
      "metadata": {
        "id": "dwqN9IU6Upo9"
      },
      "source": [
        "It seems that the number of chunks that have actually been written after the first processing step for the year 2015 is one less than what we counted, which caused this error. The following plot should be correct though as the error stems from trying to read an additionnal (non-existing) chunk, which means that we already have read all the data from that year."
      ]
    },
    {
      "cell_type": "markdown",
      "metadata": {
        "id": "MbspO7aI6X41"
      },
      "source": [
        "## Start of the analysis\n"
      ]
    },
    {
      "cell_type": "code",
      "metadata": {
        "id": "dTkpu8XxnOU8",
        "colab": {
          "base_uri": "https://localhost:8080/",
          "height": 297
        },
        "outputId": "540ceb67-2195-4af2-c4ae-53089192a40b"
      },
      "source": [
        "x = np.arange(len(years))  # the years locations\n",
        "width = 0.35  # the width of the bars\n",
        "\n",
        "fig, ax = plt.subplots()\n",
        "rects1 = ax.bar(x - width/2, M, width, label='Men')\n",
        "rects2 = ax.bar(x + width/2, F, width, label='Women')\n",
        "\n",
        "ax.set_ylabel('Counts')\n",
        "ax.set_title('Count by year and gender')\n",
        "ax.set_xticks(x)\n",
        "ax.set_xticklabels(years)\n",
        "ax.legend()\n",
        "\n",
        "fig.tight_layout()\n",
        "\n",
        "plt.show()"
      ],
      "execution_count": null,
      "outputs": [
        {
          "output_type": "display_data",
          "data": {
            "image/png": "[encoded data removed]",
            "text/plain": [
              "<Figure size 432x288 with 1 Axes>"
            ]
          },
          "metadata": {
            "needs_background": "light"
          }
        }
      ]
    }
  ]
}