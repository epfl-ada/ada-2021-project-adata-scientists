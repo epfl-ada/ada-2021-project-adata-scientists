{
 "cells": [
  {
   "cell_type": "code",
   "execution_count": 2,
   "id": "4180584c",
   "metadata": {},
   "outputs": [],
   "source": [
    "import pandas as pd\n",
    "import numpy as np\n",
    "import matplotlib.pyplot as plt"
   ]
  },
  {
   "cell_type": "code",
   "execution_count": null,
   "id": "f2cd7093",
   "metadata": {},
   "outputs": [],
   "source": [
    "DATA='data/'"
   ]
  },
  {
   "cell_type": "code",
   "execution_count": null,
   "id": "826aa50b",
   "metadata": {},
   "outputs": [],
   "source": [
    "chunk_list = []\n",
    "with pd.read_json(DATA+'/quotes-2020.json.bz2', lines=True, compression='bz2', chunksize=1_000_000) as df_reader:\n",
    "    for chunk in df_reader:\n",
    "        processed_chunk = clean_data(chunk)\n",
    "        chunk_list.append(processed_chunk)\n",
    "large_df = pd.concat(chunk_list, ignore_index=True)\n",
    "large_df.to_csv(path_or_buf='data/clean-quotes-2020.bz2', compression='bz2')"
   ]
  },
  {
   "cell_type": "code",
   "execution_count": null,
   "id": "8d694db2",
   "metadata": {},
   "outputs": [],
   "source": [
    "def clean (chunk_list):\n",
    "    chunk_list = chunk_list.drop_duplicates(subset=\"id\", keep=\"first\")\n",
    "    chunk_list=chunk_list(chunk_list.genre!=NaN)\n",
    "    chunk_list=chunk_list(chunk_list.age<100)\n",
    "    #si le métier de la personne est compris dans sonn nom (du style de président), le retirer serait pas mal pour ensuite normer les noms\n",
    "\n",
    "    "
   ]
  }
 ],
 "metadata": {
  "kernelspec": {
   "display_name": "Python 3",
   "language": "python",
   "name": "python3"
  },
  "language_info": {
   "codemirror_mode": {
    "name": "ipython",
    "version": 3
   },
   "file_extension": ".py",
   "mimetype": "text/x-python",
   "name": "python",
   "nbconvert_exporter": "python",
   "pygments_lexer": "ipython3",
   "version": "3.8.8"
  }
 },
 "nbformat": 4,
 "nbformat_minor": 5
}
